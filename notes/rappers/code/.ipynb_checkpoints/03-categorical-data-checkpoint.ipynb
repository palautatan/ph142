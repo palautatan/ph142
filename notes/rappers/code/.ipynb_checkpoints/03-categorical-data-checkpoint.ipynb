{
 "cells": [
  {
   "cell_type": "markdown",
   "metadata": {},
   "source": [
    "## Load in data"
   ]
  },
  {
   "cell_type": "code",
   "execution_count": 17,
   "metadata": {},
   "outputs": [],
   "source": [
    "# * LIBRARIES\n",
    "library(dplyr)\n",
    "library(ggplot2)\n",
    "library(broom)\n",
    "\n",
    "# * LOAD IN DATA\n",
    "rappers <- read.csv(\"../data/rappers.csv\")"
   ]
  },
  {
   "cell_type": "markdown",
   "metadata": {},
   "source": [
    "This chunk is adding in useful columns. *Don't worry about being able to write a function.*"
   ]
  },
  {
   "cell_type": "code",
   "execution_count": 19,
   "metadata": {},
   "outputs": [
    {
     "data": {
      "text/html": [
       "<table>\n",
       "<thead><tr><th scope=col>artist_name</th><th scope=col>legal_name</th><th scope=col>birth_year</th><th scope=col>origin</th><th scope=col>net_worth</th><th scope=col>start_year</th><th scope=col>deceased</th><th scope=col>height</th><th scope=col>height_decimal</th><th scope=col>age</th><th scope=col>active</th></tr></thead>\n",
       "<tbody>\n",
       "\t<tr><td>Nicki-Minaj       </td><td>Onika-Maraj       </td><td>1982              </td><td>New-York          </td><td> 75               </td><td>2004              </td><td>FALSE             </td><td>5'2\"              </td><td>5.166667          </td><td>37                </td><td>15                </td></tr>\n",
       "\t<tr><td>Jay-Z             </td><td>Shawn-Carter      </td><td>1969              </td><td>New-York          </td><td>900               </td><td>1986              </td><td>FALSE             </td><td>6'2\"              </td><td>6.166667          </td><td>50                </td><td>33                </td></tr>\n",
       "\t<tr><td>Eminem            </td><td>Marshall-Mathers  </td><td>1972              </td><td>Missouri          </td><td>190               </td><td>1988              </td><td>FALSE             </td><td>5'8\"              </td><td>5.666667          </td><td>47                </td><td>31                </td></tr>\n",
       "\t<tr><td>Kendrick-Lamar    </td><td>Kendrick-Duckworth</td><td>1987              </td><td>California        </td><td> 45               </td><td>2003              </td><td>FALSE             </td><td>5'6\"              </td><td>5.500000          </td><td>32                </td><td>16                </td></tr>\n",
       "\t<tr><td>Logic             </td><td>Robert-Hall       </td><td>1990              </td><td>Maryland          </td><td> 10               </td><td>2009              </td><td>FALSE             </td><td>5'9\"              </td><td>5.750000          </td><td>29                </td><td>10                </td></tr>\n",
       "\t<tr><td>E-40              </td><td>Earl-Stevens      </td><td>1967              </td><td>California        </td><td> 10               </td><td>1986              </td><td>FALSE             </td><td>6'1\"              </td><td>6.083333          </td><td>52                </td><td>33                </td></tr>\n",
       "</tbody>\n",
       "</table>\n"
      ],
      "text/latex": [
       "\\begin{tabular}{r|lllllllllll}\n",
       " artist\\_name & legal\\_name & birth\\_year & origin & net\\_worth & start\\_year & deceased & height & height\\_decimal & age & active\\\\\n",
       "\\hline\n",
       "\t Nicki-Minaj        & Onika-Maraj        & 1982               & New-York           &  75                & 2004               & FALSE              & 5'2\"               & 5.166667           & 37                 & 15                \\\\\n",
       "\t Jay-Z              & Shawn-Carter       & 1969               & New-York           & 900                & 1986               & FALSE              & 6'2\"               & 6.166667           & 50                 & 33                \\\\\n",
       "\t Eminem             & Marshall-Mathers   & 1972               & Missouri           & 190                & 1988               & FALSE              & 5'8\"               & 5.666667           & 47                 & 31                \\\\\n",
       "\t Kendrick-Lamar     & Kendrick-Duckworth & 1987               & California         &  45                & 2003               & FALSE              & 5'6\"               & 5.500000           & 32                 & 16                \\\\\n",
       "\t Logic              & Robert-Hall        & 1990               & Maryland           &  10                & 2009               & FALSE              & 5'9\"               & 5.750000           & 29                 & 10                \\\\\n",
       "\t E-40               & Earl-Stevens       & 1967               & California         &  10                & 1986               & FALSE              & 6'1\"               & 6.083333           & 52                 & 33                \\\\\n",
       "\\end{tabular}\n"
      ],
      "text/markdown": [
       "\n",
       "artist_name | legal_name | birth_year | origin | net_worth | start_year | deceased | height | height_decimal | age | active | \n",
       "|---|---|---|---|---|---|\n",
       "| Nicki-Minaj        | Onika-Maraj        | 1982               | New-York           |  75                | 2004               | FALSE              | 5'2\"               | 5.166667           | 37                 | 15                 | \n",
       "| Jay-Z              | Shawn-Carter       | 1969               | New-York           | 900                | 1986               | FALSE              | 6'2\"               | 6.166667           | 50                 | 33                 | \n",
       "| Eminem             | Marshall-Mathers   | 1972               | Missouri           | 190                | 1988               | FALSE              | 5'8\"               | 5.666667           | 47                 | 31                 | \n",
       "| Kendrick-Lamar     | Kendrick-Duckworth | 1987               | California         |  45                | 2003               | FALSE              | 5'6\"               | 5.500000           | 32                 | 16                 | \n",
       "| Logic              | Robert-Hall        | 1990               | Maryland           |  10                | 2009               | FALSE              | 5'9\"               | 5.750000           | 29                 | 10                 | \n",
       "| E-40               | Earl-Stevens       | 1967               | California         |  10                | 1986               | FALSE              | 6'1\"               | 6.083333           | 52                 | 33                 | \n",
       "\n",
       "\n"
      ],
      "text/plain": [
       "  artist_name    legal_name         birth_year origin     net_worth start_year\n",
       "1 Nicki-Minaj    Onika-Maraj        1982       New-York    75       2004      \n",
       "2 Jay-Z          Shawn-Carter       1969       New-York   900       1986      \n",
       "3 Eminem         Marshall-Mathers   1972       Missouri   190       1988      \n",
       "4 Kendrick-Lamar Kendrick-Duckworth 1987       California  45       2003      \n",
       "5 Logic          Robert-Hall        1990       Maryland    10       2009      \n",
       "6 E-40           Earl-Stevens       1967       California  10       1986      \n",
       "  deceased height height_decimal age active\n",
       "1 FALSE    5'2\"   5.166667       37  15    \n",
       "2 FALSE    6'2\"   6.166667       50  33    \n",
       "3 FALSE    5'8\"   5.666667       47  31    \n",
       "4 FALSE    5'6\"   5.500000       32  16    \n",
       "5 FALSE    5'9\"   5.750000       29  10    \n",
       "6 FALSE    6'1\"   6.083333       52  33    "
      ]
     },
     "metadata": {},
     "output_type": "display_data"
    }
   ],
   "source": [
    "# * DON'T WORRY ABOUT THIS PART :D\n",
    "height_to_decimal <- function(this_height) {\n",
    "    numeric <- sapply(strsplit(gsub(\"\\\"\", \"\", as.character(this_height)), \"\\'\"), as.numeric)\n",
    "    numeric[1] + (numeric[2] / 12)\n",
    "}\n",
    "height_to_decimal <- Vectorize(height_to_decimal, vectorize.args=\"this_height\")\n",
    "\n",
    "# * WORRY ABOUT THIS PART\n",
    "# * USING MUTATE TO ADD USEFUL VALUES\n",
    "rappers <- rappers %>% mutate(height_decimal=as.numeric(height_to_decimal(height)))\n",
    "rappers <- rappers %>% mutate(age=2019-birth_year,\n",
    "                              active=2019-start_year)\n",
    "head(rappers)"
   ]
  },
  {
   "cell_type": "markdown",
   "metadata": {},
   "source": [
    "## Working the categorical data"
   ]
  },
  {
   "cell_type": "markdown",
   "metadata": {},
   "source": [
    "I'm going to make a **contingency table** or a **two-way** table."
   ]
  },
  {
   "cell_type": "code",
   "execution_count": 26,
   "metadata": {},
   "outputs": [],
   "source": [
    "library(dplyr)"
   ]
  },
  {
   "cell_type": "code",
   "execution_count": 44,
   "metadata": {},
   "outputs": [
    {
     "data": {
      "text/html": [
       "<table>\n",
       "<thead><tr><th scope=col>artist_name</th><th scope=col>origin</th><th scope=col>active</th><th scope=col>vet</th></tr></thead>\n",
       "<tbody>\n",
       "\t<tr><td>Nicki-Minaj   </td><td>New-York      </td><td>15            </td><td>FALSE         </td></tr>\n",
       "\t<tr><td>Jay-Z         </td><td>New-York      </td><td>33            </td><td> TRUE         </td></tr>\n",
       "\t<tr><td>Kendrick-Lamar</td><td>California    </td><td>16            </td><td>FALSE         </td></tr>\n",
       "\t<tr><td>E-40          </td><td>California    </td><td>33            </td><td> TRUE         </td></tr>\n",
       "\t<tr><td>Nas           </td><td>New-York      </td><td>28            </td><td> TRUE         </td></tr>\n",
       "\t<tr><td>Jadakiss      </td><td>New-York      </td><td>28            </td><td> TRUE         </td></tr>\n",
       "</tbody>\n",
       "</table>\n"
      ],
      "text/latex": [
       "\\begin{tabular}{r|llll}\n",
       " artist\\_name & origin & active & vet\\\\\n",
       "\\hline\n",
       "\t Nicki-Minaj    & New-York       & 15             & FALSE         \\\\\n",
       "\t Jay-Z          & New-York       & 33             &  TRUE         \\\\\n",
       "\t Kendrick-Lamar & California     & 16             & FALSE         \\\\\n",
       "\t E-40           & California     & 33             &  TRUE         \\\\\n",
       "\t Nas            & New-York       & 28             &  TRUE         \\\\\n",
       "\t Jadakiss       & New-York       & 28             &  TRUE         \\\\\n",
       "\\end{tabular}\n"
      ],
      "text/markdown": [
       "\n",
       "artist_name | origin | active | vet | \n",
       "|---|---|---|---|---|---|\n",
       "| Nicki-Minaj    | New-York       | 15             | FALSE          | \n",
       "| Jay-Z          | New-York       | 33             |  TRUE          | \n",
       "| Kendrick-Lamar | California     | 16             | FALSE          | \n",
       "| E-40           | California     | 33             |  TRUE          | \n",
       "| Nas            | New-York       | 28             |  TRUE          | \n",
       "| Jadakiss       | New-York       | 28             |  TRUE          | \n",
       "\n",
       "\n"
      ],
      "text/plain": [
       "  artist_name    origin     active vet  \n",
       "1 Nicki-Minaj    New-York   15     FALSE\n",
       "2 Jay-Z          New-York   33      TRUE\n",
       "3 Kendrick-Lamar California 16     FALSE\n",
       "4 E-40           California 33      TRUE\n",
       "5 Nas            New-York   28      TRUE\n",
       "6 Jadakiss       New-York   28      TRUE"
      ]
     },
     "metadata": {},
     "output_type": "display_data"
    }
   ],
   "source": [
    "cat_subset <- rappers %>% filter(origin %in% c(\"New-York\", \"California\")) %>% select(artist_name, origin, active)\n",
    "cat_subset <- cat_subset %>% mutate(vet=active>mean(active))\n",
    "head(cat_subset)"
   ]
  },
  {
   "cell_type": "code",
   "execution_count": 51,
   "metadata": {},
   "outputs": [
    {
     "data": {
      "text/plain": [
       "            \n",
       "             FALSE TRUE\n",
       "  California     6   10\n",
       "  New-York      10   12"
      ]
     },
     "metadata": {},
     "output_type": "display_data"
    }
   ],
   "source": [
    "contingency_table <- table(as.character(cat_subset$origin), cat_subset$vet)\n",
    "contingency_table"
   ]
  },
  {
   "cell_type": "markdown",
   "metadata": {},
   "source": [
    "We can visualize categorical variables by making a **dodged bar plot**."
   ]
  },
  {
   "cell_type": "code",
   "execution_count": null,
   "metadata": {},
   "outputs": [
    {
     "data": {},
     "metadata": {},
     "output_type": "display_data"
    }
   ],
   "source": [
    "ggplot(cat_subset, aes(x=origin, fill=vet)) +\n",
    "    geom_bar(position=\"dodge\") +\n",
    "    ggtitle(\"Counts of Rap Veterans in CA and NY\")"
   ]
  },
  {
   "cell_type": "code",
   "execution_count": null,
   "metadata": {},
   "outputs": [],
   "source": []
  }
 ],
 "metadata": {
  "kernelspec": {
   "display_name": "R",
   "language": "R",
   "name": "ir"
  },
  "language_info": {
   "codemirror_mode": "r",
   "file_extension": ".r",
   "mimetype": "text/x-r-source",
   "name": "R",
   "pygments_lexer": "r",
   "version": "3.5.1"
  }
 },
 "nbformat": 4,
 "nbformat_minor": 2
}
