{
 "cells": [
  {
   "cell_type": "markdown",
   "metadata": {},
   "source": [
    "# Lab 3.\n",
    "We've been studying study design and sampling methods. We've seen how bias comes into play. Now, imagine we have a great dataset that is representative of whatever population we are interested in.\n",
    "\n",
    "![free samples](images/free-samples.jpeg)\n",
    "\n",
    "## Goals\n",
    "1. Understand **sample** from **population**\n",
    "2. Take estimate from a **sampling distribution**\n",
    "3. As $n$ increases, your sampling distribution becomes less variant and closer to the true value (see on a histogram)"
   ]
  },
  {
   "cell_type": "code",
   "execution_count": 2,
   "metadata": {},
   "outputs": [],
   "source": [
    "library(readr)\n",
    "library(dplyr)"
   ]
  },
  {
   "cell_type": "code",
   "execution_count": 3,
   "metadata": {},
   "outputs": [
    {
     "name": "stderr",
     "output_type": "stream",
     "text": [
      "Warning message:\n",
      "“Missing column names filled in: 'X1' [1]”Parsed with column specification:\n",
      "cols(\n",
      "  X1 = col_integer(),\n",
      "  babyID = col_integer(),\n",
      "  dbwt = col_integer(),\n",
      "  combgest = col_integer(),\n",
      "  sex = col_character(),\n",
      "  dob_mm = col_integer(),\n",
      "  cig_rec = col_character()\n",
      ")\n"
     ]
    },
    {
     "data": {
      "text/html": [
       "<table>\n",
       "<thead><tr><th scope=col>babyID</th><th scope=col>dbwt</th><th scope=col>combgest</th><th scope=col>sex</th><th scope=col>dob_mm</th><th scope=col>cig_rec</th></tr></thead>\n",
       "<tbody>\n",
       "\t<tr><td>1   </td><td>2977</td><td>37  </td><td>M   </td><td>1   </td><td>N   </td></tr>\n",
       "\t<tr><td>2   </td><td>3191</td><td>41  </td><td>M   </td><td>1   </td><td>Y   </td></tr>\n",
       "\t<tr><td>3   </td><td>1786</td><td>32  </td><td>F   </td><td>1   </td><td>N   </td></tr>\n",
       "\t<tr><td>4   </td><td>4489</td><td>39  </td><td>M   </td><td>1   </td><td>N   </td></tr>\n",
       "\t<tr><td>5   </td><td>3203</td><td>38  </td><td>M   </td><td>1   </td><td>N   </td></tr>\n",
       "\t<tr><td>6   </td><td>3203</td><td>39  </td><td>F   </td><td>1   </td><td>N   </td></tr>\n",
       "</tbody>\n",
       "</table>\n"
      ],
      "text/latex": [
       "\\begin{tabular}{r|llllll}\n",
       " babyID & dbwt & combgest & sex & dob\\_mm & cig\\_rec\\\\\n",
       "\\hline\n",
       "\t 1    & 2977 & 37   & M    & 1    & N   \\\\\n",
       "\t 2    & 3191 & 41   & M    & 1    & Y   \\\\\n",
       "\t 3    & 1786 & 32   & F    & 1    & N   \\\\\n",
       "\t 4    & 4489 & 39   & M    & 1    & N   \\\\\n",
       "\t 5    & 3203 & 38   & M    & 1    & N   \\\\\n",
       "\t 6    & 3203 & 39   & F    & 1    & N   \\\\\n",
       "\\end{tabular}\n"
      ],
      "text/markdown": [
       "\n",
       "babyID | dbwt | combgest | sex | dob_mm | cig_rec | \n",
       "|---|---|---|---|---|---|\n",
       "| 1    | 2977 | 37   | M    | 1    | N    | \n",
       "| 2    | 3191 | 41   | M    | 1    | Y    | \n",
       "| 3    | 1786 | 32   | F    | 1    | N    | \n",
       "| 4    | 4489 | 39   | M    | 1    | N    | \n",
       "| 5    | 3203 | 38   | M    | 1    | N    | \n",
       "| 6    | 3203 | 39   | F    | 1    | N    | \n",
       "\n",
       "\n"
      ],
      "text/plain": [
       "  babyID dbwt combgest sex dob_mm cig_rec\n",
       "1 1      2977 37       M   1      N      \n",
       "2 2      3191 41       M   1      Y      \n",
       "3 3      1786 32       F   1      N      \n",
       "4 4      4489 39       M   1      N      \n",
       "5 5      3203 38       M   1      N      \n",
       "6 6      3203 39       F   1      N      "
      ]
     },
     "metadata": {},
     "output_type": "display_data"
    }
   ],
   "source": [
    "birth_data <- read_csv(\"data/us-territory-births.csv\")[,-1]\n",
    "head(birth_data)"
   ]
  },
  {
   "cell_type": "markdown",
   "metadata": {},
   "source": [
    "## Data dictionary\n",
    "This was provided from the [data documentation](ftp://ftp.cdc.gov/pub/Health_Statistics/NCHS/Dataset_Documentation/DVS/natality/UserGuide2016.pdf).\n",
    "\n",
    "| Variable        | Description                                                  |\n",
    "|-----------------|--------------------------------------------------------------|\n",
    "| babyID          | Unique identifier: row number                                |\n",
    "| dbwt            | Birth weight in Grams: 0227-8165 Number of grams           | \n",
    "| combgest        | Combined Gestation - in Weeks: 17th to 47th week of Gestation|                \n",
    "| sex             | Sex of Infant: M (Male) or F (Female)\t                       |\n",
    "| dob_mm          | Birth month of the infant                                    | \n",
    "| cig_rec         | If the mother reports smoking in any of the three trimesters of pregnancy she is classified as a smoker: (Y) Yes, (N) No, or (U) Unknown|\n",
    "\n",
    "For us, what is important right now is `dbwt` which is the birth weight. We're in the US, so we don't normally record babies' birth weight in grams."
   ]
  },
  {
   "cell_type": "code",
   "execution_count": 4,
   "metadata": {},
   "outputs": [
    {
     "name": "stderr",
     "output_type": "stream",
     "text": [
      "Updating HTML index of packages in '.Library'\n",
      "Making 'packages.html' ... done\n"
     ]
    },
    {
     "data": {
      "text/html": [
       "<table>\n",
       "<thead><tr><th scope=col>babyID</th><th scope=col>dbwt</th><th scope=col>combgest</th><th scope=col>sex</th><th scope=col>dob_mm</th><th scope=col>cig_rec</th><th scope=col>bw_lbs</th></tr></thead>\n",
       "<tbody>\n",
       "\t<tr><td>1       </td><td>2977    </td><td>37      </td><td>M       </td><td>1       </td><td>N       </td><td>6.563161</td></tr>\n",
       "\t<tr><td>2       </td><td>3191    </td><td>41      </td><td>M       </td><td>1       </td><td>Y       </td><td>7.034950</td></tr>\n",
       "\t<tr><td>3       </td><td>1786    </td><td>32      </td><td>F       </td><td>1       </td><td>N       </td><td>3.937455</td></tr>\n",
       "\t<tr><td>4       </td><td>4489    </td><td>39      </td><td>M       </td><td>1       </td><td>N       </td><td>9.896550</td></tr>\n",
       "\t<tr><td>5       </td><td>3203    </td><td>38      </td><td>M       </td><td>1       </td><td>N       </td><td>7.061405</td></tr>\n",
       "\t<tr><td>6       </td><td>3203    </td><td>39      </td><td>F       </td><td>1       </td><td>N       </td><td>7.061405</td></tr>\n",
       "</tbody>\n",
       "</table>\n"
      ],
      "text/latex": [
       "\\begin{tabular}{r|lllllll}\n",
       " babyID & dbwt & combgest & sex & dob\\_mm & cig\\_rec & bw\\_lbs\\\\\n",
       "\\hline\n",
       "\t 1        & 2977     & 37       & M        & 1        & N        & 6.563161\\\\\n",
       "\t 2        & 3191     & 41       & M        & 1        & Y        & 7.034950\\\\\n",
       "\t 3        & 1786     & 32       & F        & 1        & N        & 3.937455\\\\\n",
       "\t 4        & 4489     & 39       & M        & 1        & N        & 9.896550\\\\\n",
       "\t 5        & 3203     & 38       & M        & 1        & N        & 7.061405\\\\\n",
       "\t 6        & 3203     & 39       & F        & 1        & N        & 7.061405\\\\\n",
       "\\end{tabular}\n"
      ],
      "text/markdown": [
       "\n",
       "babyID | dbwt | combgest | sex | dob_mm | cig_rec | bw_lbs | \n",
       "|---|---|---|---|---|---|\n",
       "| 1        | 2977     | 37       | M        | 1        | N        | 6.563161 | \n",
       "| 2        | 3191     | 41       | M        | 1        | Y        | 7.034950 | \n",
       "| 3        | 1786     | 32       | F        | 1        | N        | 3.937455 | \n",
       "| 4        | 4489     | 39       | M        | 1        | N        | 9.896550 | \n",
       "| 5        | 3203     | 38       | M        | 1        | N        | 7.061405 | \n",
       "| 6        | 3203     | 39       | F        | 1        | N        | 7.061405 | \n",
       "\n",
       "\n"
      ],
      "text/plain": [
       "  babyID dbwt combgest sex dob_mm cig_rec bw_lbs  \n",
       "1 1      2977 37       M   1      N       6.563161\n",
       "2 2      3191 41       M   1      Y       7.034950\n",
       "3 3      1786 32       F   1      N       3.937455\n",
       "4 4      4489 39       M   1      N       9.896550\n",
       "5 5      3203 38       M   1      N       7.061405\n",
       "6 6      3203 39       F   1      N       7.061405"
      ]
     },
     "metadata": {},
     "output_type": "display_data"
    }
   ],
   "source": [
    "install.packages(\"measurements\")\n",
    "library(measurements)\n",
    "birth_data <- birth_data %>% mutate(bw_lbs = conv_unit(dbwt,\"g\",\"lbs\"))\n",
    "head(birth_data)"
   ]
  },
  {
   "cell_type": "code",
   "execution_count": 5,
   "metadata": {},
   "outputs": [
    {
     "data": {
      "text/html": [
       "<table>\n",
       "<thead><tr><th scope=col>babyID</th><th scope=col>dbwt</th><th scope=col>combgest</th><th scope=col>sex</th><th scope=col>dob_mm</th><th scope=col>cig_rec</th><th scope=col>bw_lbs</th><th scope=col>under_5lbs</th></tr></thead>\n",
       "<tbody>\n",
       "\t<tr><td>1       </td><td>2977    </td><td>37      </td><td>M       </td><td>1       </td><td>N       </td><td>6.563161</td><td>FALSE   </td></tr>\n",
       "\t<tr><td>2       </td><td>3191    </td><td>41      </td><td>M       </td><td>1       </td><td>Y       </td><td>7.034950</td><td>FALSE   </td></tr>\n",
       "\t<tr><td>3       </td><td>1786    </td><td>32      </td><td>F       </td><td>1       </td><td>N       </td><td>3.937455</td><td> TRUE   </td></tr>\n",
       "\t<tr><td>4       </td><td>4489    </td><td>39      </td><td>M       </td><td>1       </td><td>N       </td><td>9.896550</td><td>FALSE   </td></tr>\n",
       "\t<tr><td>5       </td><td>3203    </td><td>38      </td><td>M       </td><td>1       </td><td>N       </td><td>7.061405</td><td>FALSE   </td></tr>\n",
       "\t<tr><td>6       </td><td>3203    </td><td>39      </td><td>F       </td><td>1       </td><td>N       </td><td>7.061405</td><td>FALSE   </td></tr>\n",
       "</tbody>\n",
       "</table>\n"
      ],
      "text/latex": [
       "\\begin{tabular}{r|llllllll}\n",
       " babyID & dbwt & combgest & sex & dob\\_mm & cig\\_rec & bw\\_lbs & under\\_5lbs\\\\\n",
       "\\hline\n",
       "\t 1        & 2977     & 37       & M        & 1        & N        & 6.563161 & FALSE   \\\\\n",
       "\t 2        & 3191     & 41       & M        & 1        & Y        & 7.034950 & FALSE   \\\\\n",
       "\t 3        & 1786     & 32       & F        & 1        & N        & 3.937455 &  TRUE   \\\\\n",
       "\t 4        & 4489     & 39       & M        & 1        & N        & 9.896550 & FALSE   \\\\\n",
       "\t 5        & 3203     & 38       & M        & 1        & N        & 7.061405 & FALSE   \\\\\n",
       "\t 6        & 3203     & 39       & F        & 1        & N        & 7.061405 & FALSE   \\\\\n",
       "\\end{tabular}\n"
      ],
      "text/markdown": [
       "\n",
       "babyID | dbwt | combgest | sex | dob_mm | cig_rec | bw_lbs | under_5lbs | \n",
       "|---|---|---|---|---|---|\n",
       "| 1        | 2977     | 37       | M        | 1        | N        | 6.563161 | FALSE    | \n",
       "| 2        | 3191     | 41       | M        | 1        | Y        | 7.034950 | FALSE    | \n",
       "| 3        | 1786     | 32       | F        | 1        | N        | 3.937455 |  TRUE    | \n",
       "| 4        | 4489     | 39       | M        | 1        | N        | 9.896550 | FALSE    | \n",
       "| 5        | 3203     | 38       | M        | 1        | N        | 7.061405 | FALSE    | \n",
       "| 6        | 3203     | 39       | F        | 1        | N        | 7.061405 | FALSE    | \n",
       "\n",
       "\n"
      ],
      "text/plain": [
       "  babyID dbwt combgest sex dob_mm cig_rec bw_lbs   under_5lbs\n",
       "1 1      2977 37       M   1      N       6.563161 FALSE     \n",
       "2 2      3191 41       M   1      Y       7.034950 FALSE     \n",
       "3 3      1786 32       F   1      N       3.937455  TRUE     \n",
       "4 4      4489 39       M   1      N       9.896550 FALSE     \n",
       "5 5      3203 38       M   1      N       7.061405 FALSE     \n",
       "6 6      3203 39       F   1      N       7.061405 FALSE     "
      ]
     },
     "metadata": {},
     "output_type": "display_data"
    }
   ],
   "source": [
    "birth_data <- birth_data %>% mutate(under_5lbs = bw_lbs < 5)\n",
    "head(birth_data) # have a look at the added variable"
   ]
  },
  {
   "cell_type": "code",
   "execution_count": 6,
   "metadata": {},
   "outputs": [],
   "source": [
    "sample_10 <- birth_data %>% sample_n(size = 10) %>% mutate(sample_size = n())"
   ]
  },
  {
   "cell_type": "code",
   "execution_count": 8,
   "metadata": {},
   "outputs": [
    {
     "data": {
      "text/html": [
       "<table>\n",
       "<thead><tr><th scope=col>proportion</th></tr></thead>\n",
       "<tbody>\n",
       "\t<tr><td>0</td></tr>\n",
       "</tbody>\n",
       "</table>\n"
      ],
      "text/latex": [
       "\\begin{tabular}{r|l}\n",
       " proportion\\\\\n",
       "\\hline\n",
       "\t 0\\\\\n",
       "\\end{tabular}\n"
      ],
      "text/markdown": [
       "\n",
       "proportion | \n",
       "|---|\n",
       "| 0 | \n",
       "\n",
       "\n"
      ],
      "text/plain": [
       "  proportion\n",
       "1 0         "
      ]
     },
     "metadata": {},
     "output_type": "display_data"
    }
   ],
   "source": [
    "sample_10 %>% summarize(proportion=mean(under_5lbs))"
   ]
  },
  {
   "cell_type": "code",
   "execution_count": 10,
   "metadata": {},
   "outputs": [],
   "source": [
    "sample_100 <- birth_data %>% sample_n(size = 100) %>% mutate(sample_size = n())"
   ]
  },
  {
   "cell_type": "code",
   "execution_count": 11,
   "metadata": {},
   "outputs": [
    {
     "data": {
      "text/html": [
       "<table>\n",
       "<thead><tr><th scope=col>proportion</th></tr></thead>\n",
       "<tbody>\n",
       "\t<tr><td>0.05</td></tr>\n",
       "</tbody>\n",
       "</table>\n"
      ],
      "text/latex": [
       "\\begin{tabular}{r|l}\n",
       " proportion\\\\\n",
       "\\hline\n",
       "\t 0.05\\\\\n",
       "\\end{tabular}\n"
      ],
      "text/markdown": [
       "\n",
       "proportion | \n",
       "|---|\n",
       "| 0.05 | \n",
       "\n",
       "\n"
      ],
      "text/plain": [
       "  proportion\n",
       "1 0.05      "
      ]
     },
     "metadata": {},
     "output_type": "display_data"
    }
   ],
   "source": [
    "sample_100 %>% summarize(proportion=mean(under_5lbs))"
   ]
  },
  {
   "cell_type": "code",
   "execution_count": null,
   "metadata": {},
   "outputs": [],
   "source": []
  }
 ],
 "metadata": {
  "kernelspec": {
   "display_name": "R",
   "language": "R",
   "name": "ir"
  },
  "language_info": {
   "codemirror_mode": "r",
   "file_extension": ".r",
   "mimetype": "text/x-r-source",
   "name": "R",
   "pygments_lexer": "r",
   "version": "3.5.1"
  }
 },
 "nbformat": 4,
 "nbformat_minor": 2
}
