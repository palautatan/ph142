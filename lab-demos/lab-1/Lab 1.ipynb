{
 "cells": [
  {
   "attachments": {},
   "cell_type": "markdown",
   "metadata": {},
   "source": [
    "# Lab 1. Intro to R.\n",
    "\n",
    "## Announcements\n",
    "- Your first homework is out\n",
    "    - Don't just go to office hours on Tuesday\n",
    "- We're going to kick off **my** office hours tomorrow\n",
    "    - 11:00-12:00 in Berkeley Way West, 2nd floor\n",
    "\n",
    "## Goals\n",
    "\n",
    "This lab will give you the tools to start off with R code. When you do your homework, **you've got to consult lab, lecture notes, and if you're being clever about it, Google and Stackoverflow.**\n",
    "\n",
    "<img src=\"graphics/graphics.001.jpeg\" width=500>\n",
    "\n",
    "1. Load in and look at data\n",
    "2. Take a first look at the libraries `ggplot2` and `dplyr`\n",
    "    - `dplyr` is for manipulating your data\n",
    "        - pipe operator `%>%`\n",
    "        - `mutate()`\n",
    "    - `ggplot` is for plotting\n",
    "        - `geom_histogram()`\n",
    "\n",
    "3. How to write code and text into Rmd\n",
    "\n",
    "## Let's look at the data\n",
    "Start off with `read_csv` from the `readr` library."
   ]
  },
  {
   "cell_type": "code",
   "execution_count": 1,
   "metadata": {
    "scrolled": true
   },
   "outputs": [],
   "source": [
    "library(readr)"
   ]
  },
  {
   "cell_type": "markdown",
   "metadata": {},
   "source": [
    "### Where is my data?\n",
    "Check out the files pane. To get your data into R, you have to give the computer its **file path"
   ]
  },
  {
   "cell_type": "code",
   "execution_count": null,
   "metadata": {},
   "outputs": [],
   "source": []
  },
  {
   "cell_type": "markdown",
   "metadata": {},
   "source": [
    "## Libraries? Think of phone apps.\n",
    "Libraries give R more functionality.\n",
    "\n",
    "1. \"Download the app to your phone\" using `install.packages(\"insert_library_name\")`\n",
    "    - Yes quotes\n",
    "2. \"Open the app\" to use it using `library(insert_library_name)`\n",
    "    - No quotes\n",
    "    \n",
    "Sometimes, libraries will already be loaded in for you, just by the way our labs are formatted online."
   ]
  },
  {
   "cell_type": "code",
   "execution_count": null,
   "metadata": {},
   "outputs": [],
   "source": []
  }
 ],
 "metadata": {
  "kernelspec": {
   "display_name": "R",
   "language": "R",
   "name": "ir"
  },
  "language_info": {
   "codemirror_mode": "r",
   "file_extension": ".r",
   "mimetype": "text/x-r-source",
   "name": "R",
   "pygments_lexer": "r",
   "version": "3.5.1"
  }
 },
 "nbformat": 4,
 "nbformat_minor": 2
}
