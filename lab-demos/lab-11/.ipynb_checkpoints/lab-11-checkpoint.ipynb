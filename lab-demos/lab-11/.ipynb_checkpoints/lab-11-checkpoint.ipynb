{
 "cells": [
  {
   "cell_type": "markdown",
   "metadata": {},
   "source": [
    "## Lab 11. $\\chi^2$ tests and Review.\n",
    "The chi-squared test is the second to last test you're learning this semester. (*YAY!*) On that note, we're really winding down now, and this is the last real lab section.\n",
    "\n",
    "### Goals.\n",
    "1. Use `tibble()` and `tribble()`.\n",
    "2. Conduct a chi-squared goodness-of-fit (a $\\chi^2$ GOF) test.  \n",
    "3. Conduct a chi-squared test for independence.  \n",
    "4. Learn the relationship between a z-test for 2 proportions and a chi-squared test on a 2x2 table."
   ]
  },
  {
   "cell_type": "markdown",
   "metadata": {},
   "source": [
    "# 1. Quick note on `tibble()` and `tribble()`."
   ]
  },
  {
   "cell_type": "code",
   "execution_count": 1,
   "metadata": {},
   "outputs": [],
   "source": [
    "library(tibble)"
   ]
  },
  {
   "cell_type": "code",
   "execution_count": 11,
   "metadata": {},
   "outputs": [
    {
     "data": {
      "text/html": [
       "<table>\n",
       "<thead><tr><th scope=col>name</th><th scope=col>origin</th><th scope=col>occupation</th><th scope=col>seasons</th></tr></thead>\n",
       "<tbody>\n",
       "\t<tr><td>Arya       </td><td>Winterfell </td><td>Swordswoman</td><td>8          </td></tr>\n",
       "\t<tr><td>Daenerys   </td><td>Dragonstone</td><td>Queen      </td><td>8          </td></tr>\n",
       "\t<tr><td>Sansa      </td><td>Winterfell </td><td>Lady       </td><td>8          </td></tr>\n",
       "\t<tr><td>Brienne    </td><td>Tarth      </td><td>Swordswoman</td><td>8          </td></tr>\n",
       "</tbody>\n",
       "</table>\n"
      ],
      "text/latex": [
       "\\begin{tabular}{r|llll}\n",
       " name & origin & occupation & seasons\\\\\n",
       "\\hline\n",
       "\t Arya        & Winterfell  & Swordswoman & 8          \\\\\n",
       "\t Daenerys    & Dragonstone & Queen       & 8          \\\\\n",
       "\t Sansa       & Winterfell  & Lady        & 8          \\\\\n",
       "\t Brienne     & Tarth       & Swordswoman & 8          \\\\\n",
       "\\end{tabular}\n"
      ],
      "text/markdown": [
       "\n",
       "name | origin | occupation | seasons | \n",
       "|---|---|---|---|\n",
       "| Arya        | Winterfell  | Swordswoman | 8           | \n",
       "| Daenerys    | Dragonstone | Queen       | 8           | \n",
       "| Sansa       | Winterfell  | Lady        | 8           | \n",
       "| Brienne     | Tarth       | Swordswoman | 8           | \n",
       "\n",
       "\n"
      ],
      "text/plain": [
       "  name     origin      occupation  seasons\n",
       "1 Arya     Winterfell  Swordswoman 8      \n",
       "2 Daenerys Dragonstone Queen       8      \n",
       "3 Sansa    Winterfell  Lady        8      \n",
       "4 Brienne  Tarth       Swordswoman 8      "
      ]
     },
     "metadata": {},
     "output_type": "display_data"
    }
   ],
   "source": [
    "tibble(name        = c(\"Arya\",        \"Daenerys\"   ,  \"Sansa\"     ,  \"Brienne\"),\n",
    "       origin      = c(\"Winterfell\",  \"Dragonstone\",  \"Winterfell\",  \"Tarth\"  ),\n",
    "       occupation  = c(\"Swordswoman\", \"Queen\"      ,  \"Lady\"      ,  \"Swordswoman\"),\n",
    "       seasons     = c(8            ,  8           ,   8          ,   8        ))"
   ]
  },
  {
   "cell_type": "code",
   "execution_count": 9,
   "metadata": {},
   "outputs": [
    {
     "data": {
      "text/html": [
       "<table>\n",
       "<thead><tr><th scope=col>Cersei</th><th scope=col>Tyrion</th></tr></thead>\n",
       "<tbody>\n",
       "\t<tr><td>Queen                  </td><td>Hand of the other queen</td></tr>\n",
       "\t<tr><td>Evil                   </td><td>Short                  </td></tr>\n",
       "</tbody>\n",
       "</table>\n"
      ],
      "text/latex": [
       "\\begin{tabular}{r|ll}\n",
       " Cersei & Tyrion\\\\\n",
       "\\hline\n",
       "\t Queen                   & Hand of the other queen\\\\\n",
       "\t Evil                    & Short                  \\\\\n",
       "\\end{tabular}\n"
      ],
      "text/markdown": [
       "\n",
       "Cersei | Tyrion | \n",
       "|---|---|\n",
       "| Queen                   | Hand of the other queen | \n",
       "| Evil                    | Short                   | \n",
       "\n",
       "\n"
      ],
      "text/plain": [
       "  Cersei Tyrion                 \n",
       "1 Queen  Hand of the other queen\n",
       "2 Evil   Short                  "
      ]
     },
     "metadata": {},
     "output_type": "display_data"
    }
   ],
   "source": [
    "tribble( ~Cersei,  ~Tyrion,\n",
    "         \"Queen\",  \"Hand of the other queen\",\n",
    "         \"Evil\",   \"Short\")"
   ]
  },
  {
   "cell_type": "markdown",
   "metadata": {},
   "source": [
    "# 2. Goodness-of-fit test example on size recommendation system.\n",
    "Sometimes, we would like to know if counts of data follow a certain distribution. That is, we would like to ask the question of: **did the data I observe come from the distribution I have hypothesized?**\n",
    "\n",
    "The data we are working are about Modcloth's clothing size recommendation system. We are going to look at the counts of how many of their recommendations fit, were too large, or were too small for the customer.\n",
    "\n",
    "Let's `read_csv()` in our data!"
   ]
  },
  {
   "cell_type": "code",
   "execution_count": 109,
   "metadata": {
    "scrolled": true
   },
   "outputs": [
    {
     "name": "stderr",
     "output_type": "stream",
     "text": [
      "Parsed with column specification:\n",
      "cols(\n",
      "  item_id = col_integer(),\n",
      "  waist = col_integer(),\n",
      "  size = col_integer(),\n",
      "  quality = col_integer(),\n",
      "  `cup size` = col_character(),\n",
      "  hips = col_double(),\n",
      "  `bra size` = col_integer(),\n",
      "  category = col_character(),\n",
      "  bust = col_integer(),\n",
      "  height = col_character(),\n",
      "  user_name = col_character(),\n",
      "  length = col_character(),\n",
      "  fit = col_character(),\n",
      "  user_id = col_integer(),\n",
      "  `shoe size` = col_double(),\n",
      "  `shoe width` = col_character(),\n",
      "  review_summary = col_character(),\n",
      "  review_text = col_character()\n",
      ")\n",
      "Warning message in rbind(names(probs), probs_f):\n",
      "“number of columns of result is not a multiple of vector length (arg 2)”Warning message:\n",
      "“1 parsing failure.\n",
      "row # A tibble: 1 x 5 col     row col   expected               actual file           expected   <int> <chr> <chr>                  <chr>  <chr>          actual 1 37314 bust  no trailing characters -39    'modcloth.csv' file # A tibble: 1 x 5\n",
      "”"
     ]
    }
   ],
   "source": [
    "library(readr, warn.conflicts=FALSE)\n",
    "modcloth <- read_csv(\"modcloth.csv\")"
   ]
  },
  {
   "cell_type": "markdown",
   "metadata": {},
   "source": [
    "Next, I'm using some normal `dplyr` functions like `filter()` and `select()`."
   ]
  },
  {
   "cell_type": "code",
   "execution_count": 110,
   "metadata": {},
   "outputs": [],
   "source": [
    "library(dplyr, warn.conflicts=FALSE)\n",
    "modcloth <- modcloth %>% filter(category %in% c(\"bottoms\", \"tops\"))\n",
    "modcloth <- modcloth %>% select(category, fit)"
   ]
  },
  {
   "cell_type": "markdown",
   "metadata": {},
   "source": [
    "Here's a small preview of our data using `sample_n()`."
   ]
  },
  {
   "cell_type": "code",
   "execution_count": 111,
   "metadata": {},
   "outputs": [
    {
     "data": {
      "text/html": [
       "<table>\n",
       "<thead><tr><th scope=col>category</th><th scope=col>fit</th></tr></thead>\n",
       "<tbody>\n",
       "\t<tr><td>bottoms</td><td>small  </td></tr>\n",
       "\t<tr><td>bottoms</td><td>small  </td></tr>\n",
       "\t<tr><td>tops   </td><td>large  </td></tr>\n",
       "\t<tr><td>tops   </td><td>large  </td></tr>\n",
       "\t<tr><td>bottoms</td><td>large  </td></tr>\n",
       "</tbody>\n",
       "</table>\n"
      ],
      "text/latex": [
       "\\begin{tabular}{r|ll}\n",
       " category & fit\\\\\n",
       "\\hline\n",
       "\t bottoms & small  \\\\\n",
       "\t bottoms & small  \\\\\n",
       "\t tops    & large  \\\\\n",
       "\t tops    & large  \\\\\n",
       "\t bottoms & large  \\\\\n",
       "\\end{tabular}\n"
      ],
      "text/markdown": [
       "\n",
       "category | fit | \n",
       "|---|---|---|---|---|\n",
       "| bottoms | small   | \n",
       "| bottoms | small   | \n",
       "| tops    | large   | \n",
       "| tops    | large   | \n",
       "| bottoms | large   | \n",
       "\n",
       "\n"
      ],
      "text/plain": [
       "  category fit  \n",
       "1 bottoms  small\n",
       "2 bottoms  small\n",
       "3 tops     large\n",
       "4 tops     large\n",
       "5 bottoms  large"
      ]
     },
     "metadata": {},
     "output_type": "display_data"
    }
   ],
   "source": [
    "modcloth %>% sample_n(5)"
   ]
  },
  {
   "cell_type": "markdown",
   "metadata": {},
   "source": [
    "### Distribution of observed counts $O_i$.\n",
    "Now, let's use the table function to see how our **counts** are distributed."
   ]
  },
  {
   "cell_type": "code",
   "execution_count": 112,
   "metadata": {},
   "outputs": [
    {
     "data": {
      "text/plain": [
       "\n",
       "  fit large small \n",
       "24158  6226  5246 "
      ]
     },
     "metadata": {},
     "output_type": "display_data"
    }
   ],
   "source": [
    "o_i <- table(modcloth$fit)\n",
    "o_i"
   ]
  },
  {
   "cell_type": "markdown",
   "metadata": {},
   "source": [
    "Just out of interest, let's see what our **sample proportions** are."
   ]
  },
  {
   "cell_type": "code",
   "execution_count": 113,
   "metadata": {},
   "outputs": [
    {
     "data": {
      "text/plain": [
       "\n",
       "      fit     large     small \n",
       "0.6780241 0.1747404 0.1472355 "
      ]
     },
     "metadata": {},
     "output_type": "display_data"
    }
   ],
   "source": [
    "sample_props <- counts_table / nrow(modcloth)\n",
    "sample_props"
   ]
  },
  {
   "cell_type": "markdown",
   "metadata": {},
   "source": [
    "When you're working on an algorithm that will recommend clothes, of course we would want all the clothes to fit all the customer we're recommending to! However, this can't always be the case. One size does not fit all!\n",
    "\n",
    "Say that Modcloth wanted to maintain a **probability distribution** of:\n",
    "\n",
    "$P(\\text{Fit})   = 0.75$  \n",
    "$P(\\text{Large}) = 0.125$  \n",
    "$P(\\text{Small}) = 0.125$\n",
    "\n",
    "Therefore, we'd have the **hypotheses**:\n",
    "\n",
    "$H_0:$ Our counts data follow the prespecified distribution where $P(\\text{Fit}) = 0.75$, $P(\\text{Large}) = 0.125$, and $P(\\text{Small}) = 0.75$.  \n",
    "$H_1:$ At least one of our counts do not follow the distribution.  \n",
    "\n",
    "Now, we'll start our $\\chi^2$ test for goodness-of-fit. \n",
    "\n",
    "1. The assumptions for a goodness-of-fit test is that we have an independent random sample (we'll assume this), and at least 80% of our cells have $\\geq 5$ counts in them.\n",
    "\n",
    "2. Now, we would like to create our $\\chi^2$ test statistic $\\sum_{i=1}^{k} \\frac{[O_i-E_i]^2}{E_i}$.\n",
    "\n",
    "\n",
    "### Calculating expected counts $E_i$.\n",
    "We need to calculate $E_i$. We will calculate $E_i$ by multiplying each of the probabilities from the probability distribution times our sample size $n$."
   ]
  },
  {
   "cell_type": "code",
   "execution_count": 36,
   "metadata": {},
   "outputs": [],
   "source": [
    "n <- nrow(modcloth)"
   ]
  },
  {
   "cell_type": "code",
   "execution_count": 42,
   "metadata": {},
   "outputs": [
    {
     "data": {
      "text/html": [
       "<dl class=dl-horizontal>\n",
       "\t<dt>fit</dt>\n",
       "\t\t<dd>26722.5</dd>\n",
       "\t<dt>large</dt>\n",
       "\t\t<dd>4453.75</dd>\n",
       "\t<dt>small</dt>\n",
       "\t\t<dd>4453.75</dd>\n",
       "</dl>\n"
      ],
      "text/latex": [
       "\\begin{description*}\n",
       "\\item[fit] 26722.5\n",
       "\\item[large] 4453.75\n",
       "\\item[small] 4453.75\n",
       "\\end{description*}\n"
      ],
      "text/markdown": [
       "fit\n",
       ":   26722.5large\n",
       ":   4453.75small\n",
       ":   4453.75\n",
       "\n"
      ],
      "text/plain": [
       "     fit    large    small \n",
       "26722.50  4453.75  4453.75 "
      ]
     },
     "metadata": {},
     "output_type": "display_data"
    }
   ],
   "source": [
    "dist <- c(fit=0.75, large=0.125, small=0.125)\n",
    "e_i  <- n*dist\n",
    "e_i"
   ]
  },
  {
   "cell_type": "markdown",
   "metadata": {},
   "source": [
    "### Calculating our test statistic.\n",
    "Now that we have our $E_i$, we can do our subtraction, squaring, division, and then finally sum up all our terms. I'll show this step-by-step. You only need to really do the last step."
   ]
  },
  {
   "cell_type": "code",
   "execution_count": 43,
   "metadata": {},
   "outputs": [
    {
     "data": {
      "text/plain": [
       "\n",
       "     fit    large    small \n",
       "-2564.50  1772.25   792.25 "
      ]
     },
     "metadata": {},
     "output_type": "display_data"
    }
   ],
   "source": [
    "o_i-e_i"
   ]
  },
  {
   "cell_type": "code",
   "execution_count": 44,
   "metadata": {},
   "outputs": [
    {
     "data": {
      "text/plain": [
       "\n",
       "      fit     large     small \n",
       "6576660.2 3140870.1  627660.1 "
      ]
     },
     "metadata": {},
     "output_type": "display_data"
    }
   ],
   "source": [
    "(o_i-e_i)^2"
   ]
  },
  {
   "cell_type": "code",
   "execution_count": 45,
   "metadata": {},
   "outputs": [
    {
     "data": {
      "text/plain": [
       "\n",
       "     fit    large    small \n",
       "246.1095 705.2192 140.9284 "
      ]
     },
     "metadata": {},
     "output_type": "display_data"
    }
   ],
   "source": [
    "(o_i-e_i)^2 / e_i"
   ]
  },
  {
   "cell_type": "code",
   "execution_count": 48,
   "metadata": {},
   "outputs": [
    {
     "data": {
      "text/html": [
       "1092.25712414632"
      ],
      "text/latex": [
       "1092.25712414632"
      ],
      "text/markdown": [
       "1092.25712414632"
      ],
      "text/plain": [
       "[1] 1092.257"
      ]
     },
     "metadata": {},
     "output_type": "display_data"
    }
   ],
   "source": [
    "# * THIS CALCULATES THE FULL TEST STATISTIC\n",
    "test_statistic_1 <- sum((o_i-e_i)^2 / e_i)\n",
    "test_statistic_1"
   ]
  },
  {
   "cell_type": "markdown",
   "metadata": {},
   "source": [
    "We'll now want to calculate the p-value using `pchisq(test_statistic, degrees_of_freedom, lower.tail=FALSE)`. You will replace the values as fits your problem. For our problem,\n",
    "\n",
    "- Our test statstic is $\\chi^2=1092.2571$.  \n",
    "- Our degrees of freedom, by definition, is $df=(k-1)=2$.\n",
    "- For these tests, we will *always* use `lower.tail=FALSE`."
   ]
  },
  {
   "cell_type": "code",
   "execution_count": 49,
   "metadata": {},
   "outputs": [
    {
     "data": {
      "text/html": [
       "6.59749518401309e-238"
      ],
      "text/latex": [
       "6.59749518401309e-238"
      ],
      "text/markdown": [
       "6.59749518401309e-238"
      ],
      "text/plain": [
       "[1] 6.597495e-238"
      ]
     },
     "metadata": {},
     "output_type": "display_data"
    }
   ],
   "source": [
    "pchisq(q=test_statistic_1, df=2, lower.tail=FALSE)"
   ]
  },
  {
   "cell_type": "markdown",
   "metadata": {},
   "source": [
    "That is a super small p-value!\n",
    "\n",
    "### Confirming our answer using an `R` function.\n",
    "We can also use the following `R` function to verify our answer."
   ]
  },
  {
   "cell_type": "code",
   "execution_count": 114,
   "metadata": {},
   "outputs": [
    {
     "data": {
      "text/plain": [
       "\n",
       "\tChi-squared test for given probabilities\n",
       "\n",
       "data:  o_i\n",
       "X-squared = 1092.3, df = 2, p-value < 2.2e-16\n"
      ]
     },
     "metadata": {},
     "output_type": "display_data"
    }
   ],
   "source": [
    "chisq.test(x=o_i, \n",
    "           p=c(0.75, 0.125, 0.125))"
   ]
  },
  {
   "cell_type": "markdown",
   "metadata": {},
   "source": [
    "We got the same test statistic and degrees of freedom. Perfect! Now, it's up to you to interpret our p-value and conclude our statistical test. Do we reject or fail to reject the notion that our counts come from the prespecified distribution?"
   ]
  },
  {
   "cell_type": "markdown",
   "metadata": {},
   "source": [
    "#  3. Independence test example.\n",
    "Imagine now that we're interested in seeing how our size recommendation system works for tops and for bottoms. We are now asking the question **are the distribution of clothing fits different or the same depending on which article of clothing the system recommends**?\n",
    "\n",
    "Therefore, our **hypotheses** of interest are\n",
    "\n",
    "$H_0$: Clothing fit and article type are independent (or: the distribution of clothing fit for bottoms is the same as that of tops.)  \n",
    "$H_1$: They are dependent."
   ]
  },
  {
   "cell_type": "markdown",
   "metadata": {},
   "source": [
    "### Working with our $O_i$.\n",
    "We already have our data loaded in, so what's next is that I'm going to `filter` some data just to remove the `NA` values, then make a table for our $O_i$."
   ]
  },
  {
   "cell_type": "code",
   "execution_count": 144,
   "metadata": {},
   "outputs": [
    {
     "data": {
      "text/plain": [
       "       \n",
       "        bottoms  tops\n",
       "  fit     10660 13498\n",
       "  large    2058  4168\n",
       "  small    2548  2698"
      ]
     },
     "metadata": {},
     "output_type": "display_data"
    }
   ],
   "source": [
    "modcloth     <- modcloth %>% filter(!is.na(fit)) %>% filter(!is.na(category))\n",
    "o_i <- o_ip  <- table(modcloth$fit, modcloth$category)\n",
    "o_i"
   ]
  },
  {
   "cell_type": "markdown",
   "metadata": {},
   "source": [
    "The table setup above looks familiar, right? We've been working with tables like these to calculate conditional probabilities. Let's make a dataframe that we can work with."
   ]
  },
  {
   "cell_type": "markdown",
   "metadata": {},
   "source": [
    "**In the following steps, I am reformatting our `o_i` so we can use it conveniently in `R`.** I am going to overwrite our original `o_i`. I am adding row names for our learning convenience (apparently, `tibble`s don't need row names anymore? I think they're helpful for a lot though!)"
   ]
  },
  {
   "cell_type": "code",
   "execution_count": 145,
   "metadata": {},
   "outputs": [
    {
     "name": "stderr",
     "output_type": "stream",
     "text": [
      "Warning message:\n",
      "“Setting row names on a tibble is deprecated.”"
     ]
    },
    {
     "data": {
      "text/html": [
       "<table>\n",
       "<thead><tr><th></th><th scope=col>bottoms</th><th scope=col>tops</th></tr></thead>\n",
       "<tbody>\n",
       "\t<tr><th scope=row>fit</th><td>10660</td><td>13498</td></tr>\n",
       "\t<tr><th scope=row>large</th><td> 2058</td><td> 4168</td></tr>\n",
       "\t<tr><th scope=row>small</th><td> 2548</td><td> 2698</td></tr>\n",
       "</tbody>\n",
       "</table>\n"
      ],
      "text/latex": [
       "\\begin{tabular}{r|ll}\n",
       "  & bottoms & tops\\\\\n",
       "\\hline\n",
       "\tfit & 10660 & 13498\\\\\n",
       "\tlarge &  2058 &  4168\\\\\n",
       "\tsmall &  2548 &  2698\\\\\n",
       "\\end{tabular}\n"
      ],
      "text/markdown": [
       "\n",
       "| <!--/--> | bottoms | tops | \n",
       "|---|---|---|\n",
       "| fit | 10660 | 13498 | \n",
       "| large |  2058 |  4168 | \n",
       "| small |  2548 |  2698 | \n",
       "\n",
       "\n"
      ],
      "text/plain": [
       "      bottoms tops \n",
       "fit   10660   13498\n",
       "large  2058    4168\n",
       "small  2548    2698"
      ]
     },
     "metadata": {},
     "output_type": "display_data"
    }
   ],
   "source": [
    "o_i <- tibble(bottoms = c(10660, 2058, 2548),\n",
    "              tops    = c(13498, 4168, 2698))\n",
    "row.names(o_i) <- c(\"fit\", \"large\", \"small\")\n",
    "o_i"
   ]
  },
  {
   "cell_type": "markdown",
   "metadata": {},
   "source": [
    "Before we get going, let's see if our distributions already look pretty different on a graph (so that we won't be surprised by our test results)."
   ]
  },
  {
   "cell_type": "code",
   "execution_count": 146,
   "metadata": {},
   "outputs": [
    {
     "data": {},
     "metadata": {},
     "output_type": "display_data"
    },
    {
     "data": {
      "image/png": "[encoded data removed]",
      "text/plain": [
       "plot without title"
      ]
     },
     "metadata": {},
     "output_type": "display_data"
    }
   ],
   "source": [
    "library(ggplot2)\n",
    "o_ip <- data.frame(o_ip)\n",
    "o_ip <- o_ip %>% rename(fit=Var1, article=Var2)\n",
    "o_ip <- o_ip %>% mutate(relative_freq=Freq/rep(c(10660+2058+2548, 13498+4168+2698), each=3))\n",
    "ggplot(o_ip, aes(x=fit, y=relative_freq, fill=article)) + \n",
    "    geom_bar(stat=\"identity\", position=\"dodge\") +\n",
    "    ylab(\"relative frequency\") +\n",
    "    theme_minimal()"
   ]
  },
  {
   "cell_type": "markdown",
   "metadata": {},
   "source": [
    "We see now that there is somewhat of a difference for bottoms/tops when it comes to large and small fits. However, the fit column seems to be quite similar for both article clothing types.\n",
    "\n",
    "**Next, I'll reformat `o_i` to fit our coding needs.** Here, I'm adding a column for the row totals."
   ]
  },
  {
   "cell_type": "code",
   "execution_count": 70,
   "metadata": {},
   "outputs": [
    {
     "data": {
      "text/html": [
       "<table>\n",
       "<thead><tr><th></th><th scope=col>bottoms</th><th scope=col>tops</th><th scope=col>totals</th></tr></thead>\n",
       "<tbody>\n",
       "\t<tr><th scope=row>fit</th><td>10660</td><td>13498</td><td>24158</td></tr>\n",
       "\t<tr><th scope=row>large</th><td> 2058</td><td> 4168</td><td> 6226</td></tr>\n",
       "\t<tr><th scope=row>small</th><td> 2548</td><td> 2698</td><td> 5246</td></tr>\n",
       "</tbody>\n",
       "</table>\n"
      ],
      "text/latex": [
       "\\begin{tabular}{r|lll}\n",
       "  & bottoms & tops & totals\\\\\n",
       "\\hline\n",
       "\tfit & 10660 & 13498 & 24158\\\\\n",
       "\tlarge &  2058 &  4168 &  6226\\\\\n",
       "\tsmall &  2548 &  2698 &  5246\\\\\n",
       "\\end{tabular}\n"
      ],
      "text/markdown": [
       "\n",
       "| <!--/--> | bottoms | tops | totals | \n",
       "|---|---|---|\n",
       "| fit | 10660 | 13498 | 24158 | \n",
       "| large |  2058 |  4168 |  6226 | \n",
       "| small |  2548 |  2698 |  5246 | \n",
       "\n",
       "\n"
      ],
      "text/plain": [
       "      bottoms tops  totals\n",
       "fit   10660   13498 24158 \n",
       "large  2058    4168  6226 \n",
       "small  2548    2698  5246 "
      ]
     },
     "metadata": {},
     "output_type": "display_data"
    }
   ],
   "source": [
    "o_i <- cbind(o_i, totals=rowSums(o_i))\n",
    "o_i"
   ]
  },
  {
   "cell_type": "markdown",
   "metadata": {},
   "source": [
    "Lastly, I'm adding in my column totals!"
   ]
  },
  {
   "cell_type": "code",
   "execution_count": 71,
   "metadata": {},
   "outputs": [
    {
     "data": {
      "text/html": [
       "<table>\n",
       "<thead><tr><th></th><th scope=col>bottoms</th><th scope=col>tops</th><th scope=col>totals</th></tr></thead>\n",
       "<tbody>\n",
       "\t<tr><th scope=row>fit</th><td>10660</td><td>13498</td><td>24158</td></tr>\n",
       "\t<tr><th scope=row>large</th><td> 2058</td><td> 4168</td><td> 6226</td></tr>\n",
       "\t<tr><th scope=row>small</th><td> 2548</td><td> 2698</td><td> 5246</td></tr>\n",
       "\t<tr><th scope=row>totals</th><td>15266</td><td>20364</td><td>35630</td></tr>\n",
       "</tbody>\n",
       "</table>\n"
      ],
      "text/latex": [
       "\\begin{tabular}{r|lll}\n",
       "  & bottoms & tops & totals\\\\\n",
       "\\hline\n",
       "\tfit & 10660 & 13498 & 24158\\\\\n",
       "\tlarge &  2058 &  4168 &  6226\\\\\n",
       "\tsmall &  2548 &  2698 &  5246\\\\\n",
       "\ttotals & 15266 & 20364 & 35630\\\\\n",
       "\\end{tabular}\n"
      ],
      "text/markdown": [
       "\n",
       "| <!--/--> | bottoms | tops | totals | \n",
       "|---|---|---|---|\n",
       "| fit | 10660 | 13498 | 24158 | \n",
       "| large |  2058 |  4168 |  6226 | \n",
       "| small |  2548 |  2698 |  5246 | \n",
       "| totals | 15266 | 20364 | 35630 | \n",
       "\n",
       "\n"
      ],
      "text/plain": [
       "       bottoms tops  totals\n",
       "fit    10660   13498 24158 \n",
       "large   2058    4168  6226 \n",
       "small   2548    2698  5246 \n",
       "totals 15266   20364 35630 "
      ]
     },
     "metadata": {},
     "output_type": "display_data"
    }
   ],
   "source": [
    "o_i <- rbind(o_i, totals=colSums(o_i))\n",
    "o_i"
   ]
  },
  {
   "cell_type": "markdown",
   "metadata": {},
   "source": [
    "### Calculating our $E_i$.\n",
    "In order to calculate our $E_i$, we use the formula\n",
    "\n",
    "$$\n",
    "E_i = \\frac{[\\text{Row total}]*[\\text{Column total}]}{N}\n",
    "$$\n",
    "\n",
    "where $N$ is the grand total counts. There are other ways to do this, but this is easiest. Let's do the value for the first cell \"by hand\" in the chunk below."
   ]
  },
  {
   "cell_type": "code",
   "execution_count": 74,
   "metadata": {},
   "outputs": [
    {
     "data": {
      "text/html": [
       "10429.7519230769"
      ],
      "text/latex": [
       "10429.7519230769"
      ],
      "text/markdown": [
       "10429.7519230769"
      ],
      "text/plain": [
       "[1] 10429.75"
      ]
     },
     "metadata": {},
     "output_type": "display_data"
    }
   ],
   "source": [
    "fit_bottoms <- (15266*24158) / 35360\n",
    "fit_bottoms"
   ]
  },
  {
   "cell_type": "markdown",
   "metadata": {},
   "source": [
    "Let's do it also for small tops."
   ]
  },
  {
   "cell_type": "code",
   "execution_count": 75,
   "metadata": {},
   "outputs": [
    {
     "data": {
      "text/html": [
       "3021.19751131222"
      ],
      "text/latex": [
       "3021.19751131222"
      ],
      "text/markdown": [
       "3021.19751131222"
      ],
      "text/plain": [
       "[1] 3021.198"
      ]
     },
     "metadata": {},
     "output_type": "display_data"
    }
   ],
   "source": [
    "small_tops <- (5246*20364) / 35360\n",
    "small_tops"
   ]
  },
  {
   "cell_type": "markdown",
   "metadata": {},
   "source": [
    "The rest I'll do using code. (For you, continue using the formula above.)"
   ]
  },
  {
   "cell_type": "code",
   "execution_count": 87,
   "metadata": {},
   "outputs": [
    {
     "data": {
      "text/html": [
       "<table>\n",
       "<tbody>\n",
       "\t<tr><td>10429.752</td><td>13912.712</td></tr>\n",
       "\t<tr><td> 2687.956</td><td> 3585.584</td></tr>\n",
       "\t<tr><td> 2264.860</td><td> 3021.198</td></tr>\n",
       "</tbody>\n",
       "</table>\n"
      ],
      "text/latex": [
       "\\begin{tabular}{ll}\n",
       "\t 10429.752 & 13912.712\\\\\n",
       "\t  2687.956 &  3585.584\\\\\n",
       "\t  2264.860 &  3021.198\\\\\n",
       "\\end{tabular}\n"
      ],
      "text/markdown": [
       "\n",
       "| 10429.752 | 13912.712 | \n",
       "|  2687.956 |  3585.584 | \n",
       "|  2264.860 |  3021.198 | \n",
       "\n",
       "\n"
      ],
      "text/plain": [
       "     [,1]      [,2]     \n",
       "[1,] 10429.752 13912.712\n",
       "[2,]  2687.956  3585.584\n",
       "[3,]  2264.860  3021.198"
      ]
     },
     "metadata": {},
     "output_type": "display_data"
    }
   ],
   "source": [
    "e_i <- sapply(1:2, function(x) o_i[4,x]*o_i[1:3,3] / 35360)\n",
    "e_i"
   ]
  },
  {
   "cell_type": "markdown",
   "metadata": {},
   "source": [
    "And there are our expected values!\n",
    "\n",
    "### Calculating our test statistic.\n",
    "I'm going to first cut down `o_i` to its original size. We're done using the row and column totals."
   ]
  },
  {
   "cell_type": "code",
   "execution_count": 90,
   "metadata": {},
   "outputs": [
    {
     "data": {
      "text/html": [
       "<table>\n",
       "<thead><tr><th></th><th scope=col>bottoms</th><th scope=col>tops</th></tr></thead>\n",
       "<tbody>\n",
       "\t<tr><th scope=row>fit</th><td>10660</td><td>13498</td></tr>\n",
       "\t<tr><th scope=row>large</th><td> 2058</td><td> 4168</td></tr>\n",
       "\t<tr><th scope=row>small</th><td> 2548</td><td> 2698</td></tr>\n",
       "</tbody>\n",
       "</table>\n"
      ],
      "text/latex": [
       "\\begin{tabular}{r|ll}\n",
       "  & bottoms & tops\\\\\n",
       "\\hline\n",
       "\tfit & 10660 & 13498\\\\\n",
       "\tlarge &  2058 &  4168\\\\\n",
       "\tsmall &  2548 &  2698\\\\\n",
       "\\end{tabular}\n"
      ],
      "text/markdown": [
       "\n",
       "| <!--/--> | bottoms | tops | \n",
       "|---|---|---|\n",
       "| fit | 10660 | 13498 | \n",
       "| large |  2058 |  4168 | \n",
       "| small |  2548 |  2698 | \n",
       "\n",
       "\n"
      ],
      "text/plain": [
       "      bottoms tops \n",
       "fit   10660   13498\n",
       "large  2058    4168\n",
       "small  2548    2698"
      ]
     },
     "metadata": {},
     "output_type": "display_data"
    }
   ],
   "source": [
    "o_i <- o_i[1:3, 1:2]\n",
    "o_i"
   ]
  },
  {
   "cell_type": "markdown",
   "metadata": {},
   "source": [
    "Here's our test statistic."
   ]
  },
  {
   "cell_type": "code",
   "execution_count": 91,
   "metadata": {},
   "outputs": [
    {
     "data": {
      "text/html": [
       "329.657236123582"
      ],
      "text/latex": [
       "329.657236123582"
      ],
      "text/markdown": [
       "329.657236123582"
      ],
      "text/plain": [
       "[1] 329.6572"
      ]
     },
     "metadata": {},
     "output_type": "display_data"
    }
   ],
   "source": [
    "# * THIS CALCULATES THE FULL TEST STATISTIC\n",
    "test_statistic_2 <- sum((o_i-e_i)^2 / e_i)\n",
    "test_statistic_2"
   ]
  },
  {
   "cell_type": "markdown",
   "metadata": {},
   "source": [
    "Here's our p-value!"
   ]
  },
  {
   "cell_type": "code",
   "execution_count": 92,
   "metadata": {},
   "outputs": [
    {
     "data": {
      "text/html": [
       "2.60519787960332e-72"
      ],
      "text/latex": [
       "2.60519787960332e-72"
      ],
      "text/markdown": [
       "2.60519787960332e-72"
      ],
      "text/plain": [
       "[1] 2.605198e-72"
      ]
     },
     "metadata": {},
     "output_type": "display_data"
    }
   ],
   "source": [
    "pchisq(q=test_statistic_2, df=(nrow(o_i)-1)*(ncol(o_i)-1), lower.tail=FALSE)"
   ]
  },
  {
   "cell_type": "markdown",
   "metadata": {},
   "source": [
    "### Verifying our answer with an `R` function.\n",
    "Our test statistic is very close to what was given from the below `R` function output."
   ]
  },
  {
   "cell_type": "code",
   "execution_count": 96,
   "metadata": {},
   "outputs": [
    {
     "data": {
      "text/plain": [
       "\n",
       "\tPearson's Chi-squared test\n",
       "\n",
       "data:  o_i\n",
       "X-squared = 330.1, df = 2, p-value < 2.2e-16\n"
      ]
     },
     "metadata": {},
     "output_type": "display_data"
    }
   ],
   "source": [
    "chisq.test(x=o_i, correct=FALSE)"
   ]
  },
  {
   "cell_type": "markdown",
   "metadata": {},
   "source": [
    "Now, it's up to you to interpret and conclude!"
   ]
  },
  {
   "cell_type": "markdown",
   "metadata": {},
   "source": [
    "# 4. From z to $\\chi^2$\n",
    "Plenty of times in stats, some of our problems reduce into simpler ones. So is true for the story of $\\chi^2$ and the z-test for 2 proportions. \n",
    "\n",
    "Let's start with just the following data. (It's a subset from earlier.)"
   ]
  },
  {
   "cell_type": "code",
   "execution_count": 157,
   "metadata": {},
   "outputs": [
    {
     "data": {
      "text/html": [
       "<table>\n",
       "<thead><tr><th></th><th scope=col>bottoms</th><th scope=col>tops</th><th scope=col>totals</th></tr></thead>\n",
       "<tbody>\n",
       "\t<tr><th scope=row>large</th><td>2058 </td><td>4168 </td><td> 6226</td></tr>\n",
       "\t<tr><th scope=row>small</th><td>2548 </td><td>2698 </td><td> 5246</td></tr>\n",
       "\t<tr><th scope=row>totals</th><td>4606 </td><td>6866 </td><td>11472</td></tr>\n",
       "</tbody>\n",
       "</table>\n"
      ],
      "text/latex": [
       "\\begin{tabular}{r|lll}\n",
       "  & bottoms & tops & totals\\\\\n",
       "\\hline\n",
       "\tlarge & 2058  & 4168  &  6226\\\\\n",
       "\tsmall & 2548  & 2698  &  5246\\\\\n",
       "\ttotals & 4606  & 6866  & 11472\\\\\n",
       "\\end{tabular}\n"
      ],
      "text/markdown": [
       "\n",
       "| <!--/--> | bottoms | tops | totals | \n",
       "|---|---|---|\n",
       "| large | 2058  | 4168  |  6226 | \n",
       "| small | 2548  | 2698  |  5246 | \n",
       "| totals | 4606  | 6866  | 11472 | \n",
       "\n",
       "\n"
      ],
      "text/plain": [
       "       bottoms tops totals\n",
       "large  2058    4168  6226 \n",
       "small  2548    2698  5246 \n",
       "totals 4606    6866 11472 "
      ]
     },
     "metadata": {},
     "output_type": "display_data"
    }
   ],
   "source": [
    "unfit <- o_i[2:3,]\n",
    "unfit <- cbind(unfit, totals=rowSums(unfit))\n",
    "unfit <- rbind(unfit, totals=colSums(unfit))\n",
    "row.names(unfit) <- c(\"large\", \"small\", \"totals\")\n",
    "unfit"
   ]
  },
  {
   "cell_type": "markdown",
   "metadata": {},
   "source": [
    "### $\\chi^2$ for independence.\n",
    "\n",
    "Imagine we are interested in testing the following hypotheses:\n",
    "\n",
    "$H_0$: The distribution of clothing fit is the same for each article of clothing.  \n",
    "$H_1$: The distribution of clothing fit is not the same for each article of clothing. \n",
    "\n",
    "This is a $\\chi^2$ test for independence."
   ]
  },
  {
   "cell_type": "code",
   "execution_count": 161,
   "metadata": {
    "scrolled": true
   },
   "outputs": [
    {
     "data": {
      "text/plain": [
       "\n",
       "\tPearson's Chi-squared test with Yates' continuity correction\n",
       "\n",
       "data:  o_i[2:3, ]\n",
       "X-squared = 284.57, df = 1, p-value < 2.2e-16\n"
      ]
     },
     "metadata": {},
     "output_type": "display_data"
    }
   ],
   "source": [
    "chisq.test(o_i[2:3,],)"
   ]
  },
  {
   "cell_type": "markdown",
   "metadata": {},
   "source": [
    "From the above, we got a $\\chi^2$ test statistic of $284.57 \\approx 285$. Our p-value is very small. We would reach the conclusion of rejecting $H_0$. (Be able to interpret this in context!)\n",
    "\n",
    "### 2 proportion z-test.\n",
    "But what we can also do is take sample proportions and test those to be equal. The above $\\chi^2$ test is equivalent to a 2 proportion z-test for $P(\\text{Large}|\\text{Tops})$ and $P(\\text{Large}|\\text{Bottoms})$. We don't have to test for $P(\\text{Small}|\\text{Tops})$ and $(\\text{Large}|\\text{Bottoms})$ because we can calculate these values using the complement rule.\n",
    "\n",
    "$H_0$: $P(\\text{Large}|\\text{Tops}) = P(\\text{Large}|\\text{Bottoms})$  \n",
    "$H_1$: $P(\\text{Large}|\\text{Tops}) \\neq P(\\text{Large}|\\text{Bottoms})$  \n",
    "\n",
    "Again, this is a 2 sample z-test for proportions."
   ]
  },
  {
   "cell_type": "code",
   "execution_count": 167,
   "metadata": {},
   "outputs": [
    {
     "data": {
      "text/html": [
       "<dl class=dl-horizontal>\n",
       "\t<dt>prop_large_tops</dt>\n",
       "\t\t<dd>0.607049228080396</dd>\n",
       "\t<dt>prop_large_bottoms</dt>\n",
       "\t\t<dd>0.446808510638298</dd>\n",
       "\t<dt>prop_large</dt>\n",
       "\t\t<dd>0.542712691771269</dd>\n",
       "</dl>\n"
      ],
      "text/latex": [
       "\\begin{description*}\n",
       "\\item[prop\\textbackslash{}\\_large\\textbackslash{}\\_tops] 0.607049228080396\n",
       "\\item[prop\\textbackslash{}\\_large\\textbackslash{}\\_bottoms] 0.446808510638298\n",
       "\\item[prop\\textbackslash{}\\_large] 0.542712691771269\n",
       "\\end{description*}\n"
      ],
      "text/markdown": [
       "prop_large_tops\n",
       ":   0.607049228080396prop_large_bottoms\n",
       ":   0.446808510638298prop_large\n",
       ":   0.542712691771269\n",
       "\n"
      ],
      "text/plain": [
       "   prop_large_tops prop_large_bottoms         prop_large \n",
       "         0.6070492          0.4468085          0.5427127 "
      ]
     },
     "metadata": {},
     "output_type": "display_data"
    }
   ],
   "source": [
    "p_large_tops <- 4168/6866\n",
    "p_large_bots <- 2058/4606\n",
    "p_large <- (4168+2058) / (6866+4606)\n",
    "\n",
    "c(prop_large_tops    = p_large_tops, \n",
    "  prop_large_bottoms = p_large_bots,\n",
    "  prop_large = p_large)"
   ]
  },
  {
   "cell_type": "markdown",
   "metadata": {},
   "source": [
    "Off the bat, these proportions don't look quite the same. Let's see if statistical tests follow this thought."
   ]
  },
  {
   "cell_type": "code",
   "execution_count": 169,
   "metadata": {},
   "outputs": [
    {
     "data": {
      "text/html": [
       "16.8883653255254"
      ],
      "text/latex": [
       "16.8883653255254"
      ],
      "text/markdown": [
       "16.8883653255254"
      ],
      "text/plain": [
       "[1] 16.88837"
      ]
     },
     "metadata": {},
     "output_type": "display_data"
    }
   ],
   "source": [
    "numerator   <- p_large_tops-p_large_bots\n",
    "denominator <- sqrt(p_large*(1-p_large)*((1/6866)+(1/4606)))\n",
    "z_statistic <- numerator / denominator\n",
    "z_statistic"
   ]
  },
  {
   "cell_type": "markdown",
   "metadata": {},
   "source": [
    "We can now calculate our p-value using `pnorm()`. Since it's a two-sided hypothesis test, I'm multiplying by 2."
   ]
  },
  {
   "cell_type": "code",
   "execution_count": 173,
   "metadata": {},
   "outputs": [
    {
     "data": {
      "text/html": [
       "0"
      ],
      "text/latex": [
       "0"
      ],
      "text/markdown": [
       "0"
      ],
      "text/plain": [
       "[1] 0"
      ]
     },
     "metadata": {},
     "output_type": "display_data"
    }
   ],
   "source": [
    "2*(1-pnorm(q=z_statistic, mean=0, sd=1))"
   ]
  },
  {
   "cell_type": "markdown",
   "metadata": {},
   "source": [
    "With a small p-value like that, we're going to follow the $\\chi^2$ test's suit and reject $H_0$. So, while the p-values for the tests are possibly different, the two tests bring us to the same conclusion. We have evidence to believe the (1) distributions are not the same, which can also be restated as, (2) $P(\\text{Large}|\\text{Tops}) \\neq P(\\text{Large}|\\text{Bottoms})$.  \n",
    "\n",
    "Furthermore, while this may seem like a pop fact of sorts, the $\\chi^2$ test statistic is simply the z-test statistic squared."
   ]
  },
  {
   "cell_type": "code",
   "execution_count": 171,
   "metadata": {},
   "outputs": [
    {
     "data": {
      "text/html": [
       "285.216883368408"
      ],
      "text/latex": [
       "285.216883368408"
      ],
      "text/markdown": [
       "285.216883368408"
      ],
      "text/plain": [
       "[1] 285.2169"
      ]
     },
     "metadata": {},
     "output_type": "display_data"
    }
   ],
   "source": [
    "z_statistic^2"
   ]
  },
  {
   "cell_type": "markdown",
   "metadata": {},
   "source": [
    "Recall, the $\\chi^2$ test statistic $\\approx 285$, and $z^2 \\approx 285$ as well. (There is some rounding error involved here.) This comes from some theory! The $\\chi^2$ distribution is mathemagically defined as the square of a standard normal distribution $N(0,1)$."
   ]
  }
 ],
 "metadata": {
  "kernelspec": {
   "display_name": "R",
   "language": "R",
   "name": "ir"
  },
  "language_info": {
   "codemirror_mode": "r",
   "file_extension": ".r",
   "mimetype": "text/x-r-source",
   "name": "R",
   "pygments_lexer": "r",
   "version": "3.5.1"
  }
 },
 "nbformat": 4,
 "nbformat_minor": 2
}
