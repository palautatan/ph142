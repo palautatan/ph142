{
 "cells": [
  {
   "cell_type": "markdown",
   "metadata": {
    "slideshow": {
     "slide_type": "notes"
    }
   },
   "source": [
    "# Lab 4. Probably about probability.\n",
    "\n",
    "![Maybe](images/maybe.jpg)\n",
    "\n",
    "### Goals\n",
    "(1) Calculate conditional probabilities for tables for two categorical variables  \n",
    "(2) And for three categorical variables"
   ]
  },
  {
   "cell_type": "code",
   "execution_count": 7,
   "metadata": {
    "slideshow": {
     "slide_type": "-"
    }
   },
   "outputs": [],
   "source": [
    "library(dplyr)\n",
    "library(tidyverse)"
   ]
  },
  {
   "cell_type": "markdown",
   "metadata": {
    "slideshow": {
     "slide_type": "slide"
    }
   },
   "source": [
    "# Conditional probability for 2 variables\n",
    "When you have 2 categorical variables, you can summarize their counts in a **contingency table**."
   ]
  },
  {
   "cell_type": "markdown",
   "metadata": {
    "slideshow": {
     "slide_type": "-"
    }
   },
   "source": [
    "| ` | Category 2A | Category 2B | Total |\n",
    "| --- | ----------- | -----| --|\n",
    "| Category 1A | a | c | a+c |\n",
    "| Category 1B | b | d | b+d |\n",
    "| Total | a+b |  c+d | a+b+c+d |"
   ]
  },
  {
   "cell_type": "markdown",
   "metadata": {
    "slideshow": {
     "slide_type": "subslide"
    }
   },
   "source": [
    "I want to give you a chance to think about stats that's for a quick second not in the context of public health. How about we look at famous rappers? I have already read in a dataset."
   ]
  },
  {
   "cell_type": "code",
   "execution_count": 9,
   "metadata": {
    "slideshow": {
     "slide_type": "-"
    }
   },
   "outputs": [
    {
     "data": {
      "text/html": [
       "<table>\n",
       "<thead><tr><th scope=col>artist_name</th><th scope=col>legal_name</th><th scope=col>birth_year</th><th scope=col>origin</th><th scope=col>net_worth</th><th scope=col>start_year</th><th scope=col>deceased</th><th scope=col>height</th><th scope=col>height_decimal</th><th scope=col>tall</th><th scope=col>age</th><th scope=col>active</th></tr></thead>\n",
       "<tbody>\n",
       "\t<tr><td>Nicki-Minaj       </td><td>Onika-Maraj       </td><td>1982              </td><td>New-York          </td><td> 75               </td><td>2004              </td><td>FALSE             </td><td>5'2\"              </td><td>5.166667          </td><td>FALSE             </td><td>37                </td><td>15                </td></tr>\n",
       "\t<tr><td>Jay-Z             </td><td>Shawn-Carter      </td><td>1969              </td><td>New-York          </td><td>900               </td><td>1986              </td><td>FALSE             </td><td>6'2\"              </td><td>6.166667          </td><td> TRUE             </td><td>50                </td><td>33                </td></tr>\n",
       "\t<tr><td>Kendrick-Lamar    </td><td>Kendrick-Duckworth</td><td>1987              </td><td>California        </td><td> 45               </td><td>2003              </td><td>FALSE             </td><td>5'6\"              </td><td>5.500000          </td><td>FALSE             </td><td>32                </td><td>16                </td></tr>\n",
       "\t<tr><td>E-40              </td><td>Earl-Stevens      </td><td>1967              </td><td>California        </td><td> 10               </td><td>1986              </td><td>FALSE             </td><td>6'1\"              </td><td>6.083333          </td><td> TRUE             </td><td>52                </td><td>33                </td></tr>\n",
       "\t<tr><td>Nas               </td><td>Nasir-Jones       </td><td>1973              </td><td>New-York          </td><td> 50               </td><td>1991              </td><td>FALSE             </td><td>5'8\"              </td><td>5.666667          </td><td>FALSE             </td><td>46                </td><td>28                </td></tr>\n",
       "\t<tr><td>Jadakiss          </td><td>Jason-Phillips    </td><td>1975              </td><td>New-York          </td><td>  6               </td><td>1991              </td><td>FALSE             </td><td>5'7\"              </td><td>5.583333          </td><td>FALSE             </td><td>44                </td><td>28                </td></tr>\n",
       "</tbody>\n",
       "</table>\n"
      ],
      "text/latex": [
       "\\begin{tabular}{r|llllllllllll}\n",
       " artist\\_name & legal\\_name & birth\\_year & origin & net\\_worth & start\\_year & deceased & height & height\\_decimal & tall & age & active\\\\\n",
       "\\hline\n",
       "\t Nicki-Minaj        & Onika-Maraj        & 1982               & New-York           &  75                & 2004               & FALSE              & 5'2\"               & 5.166667           & FALSE              & 37                 & 15                \\\\\n",
       "\t Jay-Z              & Shawn-Carter       & 1969               & New-York           & 900                & 1986               & FALSE              & 6'2\"               & 6.166667           &  TRUE              & 50                 & 33                \\\\\n",
       "\t Kendrick-Lamar     & Kendrick-Duckworth & 1987               & California         &  45                & 2003               & FALSE              & 5'6\"               & 5.500000           & FALSE              & 32                 & 16                \\\\\n",
       "\t E-40               & Earl-Stevens       & 1967               & California         &  10                & 1986               & FALSE              & 6'1\"               & 6.083333           &  TRUE              & 52                 & 33                \\\\\n",
       "\t Nas                & Nasir-Jones        & 1973               & New-York           &  50                & 1991               & FALSE              & 5'8\"               & 5.666667           & FALSE              & 46                 & 28                \\\\\n",
       "\t Jadakiss           & Jason-Phillips     & 1975               & New-York           &   6                & 1991               & FALSE              & 5'7\"               & 5.583333           & FALSE              & 44                 & 28                \\\\\n",
       "\\end{tabular}\n"
      ],
      "text/markdown": [
       "\n",
       "artist_name | legal_name | birth_year | origin | net_worth | start_year | deceased | height | height_decimal | tall | age | active | \n",
       "|---|---|---|---|---|---|\n",
       "| Nicki-Minaj        | Onika-Maraj        | 1982               | New-York           |  75                | 2004               | FALSE              | 5'2\"               | 5.166667           | FALSE              | 37                 | 15                 | \n",
       "| Jay-Z              | Shawn-Carter       | 1969               | New-York           | 900                | 1986               | FALSE              | 6'2\"               | 6.166667           |  TRUE              | 50                 | 33                 | \n",
       "| Kendrick-Lamar     | Kendrick-Duckworth | 1987               | California         |  45                | 2003               | FALSE              | 5'6\"               | 5.500000           | FALSE              | 32                 | 16                 | \n",
       "| E-40               | Earl-Stevens       | 1967               | California         |  10                | 1986               | FALSE              | 6'1\"               | 6.083333           |  TRUE              | 52                 | 33                 | \n",
       "| Nas                | Nasir-Jones        | 1973               | New-York           |  50                | 1991               | FALSE              | 5'8\"               | 5.666667           | FALSE              | 46                 | 28                 | \n",
       "| Jadakiss           | Jason-Phillips     | 1975               | New-York           |   6                | 1991               | FALSE              | 5'7\"               | 5.583333           | FALSE              | 44                 | 28                 | \n",
       "\n",
       "\n"
      ],
      "text/plain": [
       "  artist_name    legal_name         birth_year origin     net_worth start_year\n",
       "1 Nicki-Minaj    Onika-Maraj        1982       New-York    75       2004      \n",
       "2 Jay-Z          Shawn-Carter       1969       New-York   900       1986      \n",
       "3 Kendrick-Lamar Kendrick-Duckworth 1987       California  45       2003      \n",
       "4 E-40           Earl-Stevens       1967       California  10       1986      \n",
       "5 Nas            Nasir-Jones        1973       New-York    50       1991      \n",
       "6 Jadakiss       Jason-Phillips     1975       New-York     6       1991      \n",
       "  deceased height height_decimal tall  age active\n",
       "1 FALSE    5'2\"   5.166667       FALSE 37  15    \n",
       "2 FALSE    6'2\"   6.166667        TRUE 50  33    \n",
       "3 FALSE    5'6\"   5.500000       FALSE 32  16    \n",
       "4 FALSE    6'1\"   6.083333        TRUE 52  33    \n",
       "5 FALSE    5'8\"   5.666667       FALSE 46  28    \n",
       "6 FALSE    5'7\"   5.583333       FALSE 44  28    "
      ]
     },
     "metadata": {},
     "output_type": "display_data"
    }
   ],
   "source": [
    "rappers_subset <- rappers %>% filter(origin %in% c(\"New-York\", \"California\"))\n",
    "head(rappers_subset)"
   ]
  },
  {
   "cell_type": "markdown",
   "metadata": {
    "slideshow": {
     "slide_type": "subslide"
    }
   },
   "source": [
    "While not all of the rappers in this dataset are from California or New York, a lot them were, so I decided to take a look at just California and New York rappers who are \"tall\" (above mean height) or not."
   ]
  },
  {
   "cell_type": "code",
   "execution_count": 10,
   "metadata": {
    "slideshow": {
     "slide_type": "-"
    }
   },
   "outputs": [
    {
     "data": {
      "text/plain": [
       "            \n",
       "             FALSE TRUE\n",
       "  California     9    7\n",
       "  New-York       8   14"
      ]
     },
     "metadata": {},
     "output_type": "display_data"
    }
   ],
   "source": [
    "table(rappers_subset$origin, rappers_subset$tall)"
   ]
  },
  {
   "cell_type": "markdown",
   "metadata": {
    "slideshow": {
     "slide_type": "subslide"
    }
   },
   "source": [
    "Let's calculate some conditional probabilities. What is the probability that you're tall given that you're a famous rapper from New York?"
   ]
  },
  {
   "cell_type": "code",
   "execution_count": 11,
   "metadata": {
    "slideshow": {
     "slide_type": "-"
    }
   },
   "outputs": [
    {
     "data": {
      "text/plain": [
       "            \n",
       "             FALSE TRUE\n",
       "  California     9    7\n",
       "  New-York       8   14"
      ]
     },
     "metadata": {},
     "output_type": "display_data"
    }
   ],
   "source": [
    "table(rappers_subset$origin, rappers_subset$tall)"
   ]
  },
  {
   "cell_type": "markdown",
   "metadata": {
    "slideshow": {
     "slide_type": "fragment"
    }
   },
   "source": [
    "First look at the row that has to do with New York. Get that total. Then, look at the column that has to do with \"TRUE\".\n",
    "\n",
    "$$\n",
    "\\begin{align}\n",
    "P(Tall|New York) \n",
    "&= \\frac{\\text{# Tall and New York}} {\\text{# New York}}\n",
    "\\\\\n",
    "&= 14 / (8+14)\n",
    "\\\\\n",
    "&= 14 / 22 \\approx 0.363\n",
    "\\end{align}\n",
    "$$"
   ]
  },
  {
   "cell_type": "markdown",
   "metadata": {
    "slideshow": {
     "slide_type": "slide"
    }
   },
   "source": [
    "# Conditional probability for 2 variables\n",
    "\n",
    "## Vocabulary\n",
    "- Sensitivity: $P(+|D)$ or the probability of test being positive if one \n",
    "has the disease.\n",
    "- Specificity: $P(-|D')$ or the probability of test being negative given \n",
    "one does not have the disease. \n",
    "- Positive predictive value (PPV): $P(D|+)$ or the probability of having the \n",
    "disease if an individual tests positive.\n",
    "- Negative predictive value (NPV):  $P(D'|-)$ or the probability of not having the \n",
    "disease if an individual tests negative.\n"
   ]
  },
  {
   "cell_type": "markdown",
   "metadata": {
    "slideshow": {
     "slide_type": "subslide"
    }
   },
   "source": [
    "This set up implies that a disease is rare, but that a very accurate test exists (i.e., \n",
    "equally high sensitivity and specificity).\n",
    "\n",
    "$n = 10,000$  \n",
    "$P(D) = 0.05$   \n",
    "$P(+|D) = 0.95$  \n",
    "$P(-|D') = 0.95$  \n",
    "\n",
    "\n",
    "|`       | $D$ | $D'$ |  Total|\n",
    "|-------|-----|------|-------|\n",
    "|+      |   a  |  c    | a+c      |\n",
    "|-      |   b  |  d    |  b+d     |\n",
    "| Total |   a+b  | c+d     | a+b+c+d      |"
   ]
  },
  {
   "cell_type": "markdown",
   "metadata": {
    "slideshow": {
     "slide_type": "fragment"
    }
   },
   "source": [
    "We now know $a+b+c+d=10000$ and $a+b=10000 \\cdot P(D)$. Now, let's play Sudoku."
   ]
  },
  {
   "cell_type": "markdown",
   "metadata": {
    "slideshow": {
     "slide_type": "subslide"
    }
   },
   "source": [
    "Now that we have this contingency table, how would we begin to calculate the PPV?\n",
    "\n",
    "|`       | $D$ | $D'$ |  Total|\n",
    "|-------|-----|------|-------|\n",
    "|+      | 475 | 475  | 950   |\n",
    "|-      | 25  | 9025 | 9050  |\n",
    "| Total | 500 | 9500 | 10000 |"
   ]
  },
  {
   "cell_type": "markdown",
   "metadata": {
    "slideshow": {
     "slide_type": "fragment"
    }
   },
   "source": [
    "$PPV = P(D|+) = 475/950 = 0.5$"
   ]
  },
  {
   "cell_type": "markdown",
   "metadata": {
    "slideshow": {
     "slide_type": "subslide"
    }
   },
   "source": [
    "Re-do the two-way table and re-calculate the PPV, but assume $P(D)=0.02$ this time.\n",
    "\n",
    "$n = 10,000$  \n",
    "$P(D) = 0.02$   \n",
    "$P(+|D) = 0.95$  \n",
    "$P(-|D') = 0.95$  "
   ]
  },
  {
   "cell_type": "markdown",
   "metadata": {
    "slideshow": {
     "slide_type": "fragment"
    }
   },
   "source": [
    "|`       | $D$ | $D'$ |  Total|\n",
    "|-------|-----|------|-------|\n",
    "|+      | 190 |  490 |  680  |\n",
    "|-      | 10  | 9310 | 9320  |\n",
    "| Total | 200 | 9800 | 10000 |\n",
    "  \n",
    "Now, calculate the PPV."
   ]
  },
  {
   "cell_type": "markdown",
   "metadata": {
    "slideshow": {
     "slide_type": "fragment"
    }
   },
   "source": [
    "$PPV = P(D|+) = 190/680 = 0.2794118$"
   ]
  },
  {
   "cell_type": "markdown",
   "metadata": {
    "slideshow": {
     "slide_type": "subslide"
    }
   },
   "source": [
    "**Sensitivity is high (0.95), but the PPV (the probability of having the disease given you have a positive test) is low for the first calculation and even lower for the second calculation.**"
   ]
  },
  {
   "cell_type": "markdown",
   "metadata": {
    "slideshow": {
     "slide_type": "fragment"
    }
   },
   "source": [
    "When disease is rare, the chance of not having the disease is very common."
   ]
  },
  {
   "cell_type": "markdown",
   "metadata": {
    "slideshow": {
     "slide_type": "fragment"
    }
   },
   "source": [
    "There will be more false positives than true positives, leading to a low PPV.  \n",
    "(Of all the tests that were positive, a high proportion of them will be false positive.)"
   ]
  },
  {
   "cell_type": "markdown",
   "metadata": {
    "slideshow": {
     "slide_type": "slide"
    }
   },
   "source": [
    "# Conditional probabilities for 3 (or more) variables\n",
    "We will be working with the below data. This table looks quite a bit different than what we were looking at earlier. Each row is associated with a number of subjects that share in common the three categorical variable values."
   ]
  },
  {
   "cell_type": "code",
   "execution_count": 12,
   "metadata": {
    "slideshow": {
     "slide_type": "-"
    }
   },
   "outputs": [
    {
     "data": {
      "text/html": [
       "<table>\n",
       "<thead><tr><th scope=col>Age</th><th scope=col>Smoking</th><th scope=col>CHD</th><th scope=col>n</th></tr></thead>\n",
       "<tbody>\n",
       "\t<tr><td>young</td><td>yes  </td><td>yes  </td><td> 60  </td></tr>\n",
       "\t<tr><td>young</td><td>yes  </td><td>no   </td><td>240  </td></tr>\n",
       "\t<tr><td>young</td><td>no   </td><td>yes  </td><td>105  </td></tr>\n",
       "\t<tr><td>young</td><td>no   </td><td>no   </td><td>595  </td></tr>\n",
       "\t<tr><td>old  </td><td>yes  </td><td>yes  </td><td>180  </td></tr>\n",
       "\t<tr><td>old  </td><td>yes  </td><td>no   </td><td>120  </td></tr>\n",
       "\t<tr><td>old  </td><td>no   </td><td>yes  </td><td>210  </td></tr>\n",
       "\t<tr><td>old  </td><td>no   </td><td>no   </td><td>490  </td></tr>\n",
       "</tbody>\n",
       "</table>\n"
      ],
      "text/latex": [
       "\\begin{tabular}{r|llll}\n",
       " Age & Smoking & CHD & n\\\\\n",
       "\\hline\n",
       "\t young & yes   & yes   &  60  \\\\\n",
       "\t young & yes   & no    & 240  \\\\\n",
       "\t young & no    & yes   & 105  \\\\\n",
       "\t young & no    & no    & 595  \\\\\n",
       "\t old   & yes   & yes   & 180  \\\\\n",
       "\t old   & yes   & no    & 120  \\\\\n",
       "\t old   & no    & yes   & 210  \\\\\n",
       "\t old   & no    & no    & 490  \\\\\n",
       "\\end{tabular}\n"
      ],
      "text/markdown": [
       "\n",
       "Age | Smoking | CHD | n | \n",
       "|---|---|---|---|---|---|---|---|\n",
       "| young | yes   | yes   |  60   | \n",
       "| young | yes   | no    | 240   | \n",
       "| young | no    | yes   | 105   | \n",
       "| young | no    | no    | 595   | \n",
       "| old   | yes   | yes   | 180   | \n",
       "| old   | yes   | no    | 120   | \n",
       "| old   | no    | yes   | 210   | \n",
       "| old   | no    | no    | 490   | \n",
       "\n",
       "\n"
      ],
      "text/plain": [
       "  Age   Smoking CHD n  \n",
       "1 young yes     yes  60\n",
       "2 young yes     no  240\n",
       "3 young no      yes 105\n",
       "4 young no      no  595\n",
       "5 old   yes     yes 180\n",
       "6 old   yes     no  120\n",
       "7 old   no      yes 210\n",
       "8 old   no      no  490"
      ]
     },
     "metadata": {},
     "output_type": "display_data"
    }
   ],
   "source": [
    "chd <- read.csv(\"data/Lab5_CHD.csv\")\n",
    "chd"
   ]
  },
  {
   "cell_type": "markdown",
   "metadata": {
    "slideshow": {
     "slide_type": "subslide"
    }
   },
   "source": [
    "#### Calculating $P(D|A′,S)$\n",
    "The probability of disease given that someone is young and does smoke. First, we calculate the total amount of subjects that are young and smoke. Next, we calculate amount of those who have CHD."
   ]
  },
  {
   "cell_type": "code",
   "execution_count": 13,
   "metadata": {
    "slideshow": {
     "slide_type": "-"
    }
   },
   "outputs": [
    {
     "data": {
      "text/html": [
       "<table>\n",
       "<thead><tr><th scope=col>Age</th><th scope=col>Smoking</th><th scope=col>CHD</th><th scope=col>n</th></tr></thead>\n",
       "<tbody>\n",
       "\t<tr><td>young</td><td>yes  </td><td>yes  </td><td> 60  </td></tr>\n",
       "\t<tr><td>young</td><td>yes  </td><td>no   </td><td>240  </td></tr>\n",
       "</tbody>\n",
       "</table>\n"
      ],
      "text/latex": [
       "\\begin{tabular}{r|llll}\n",
       " Age & Smoking & CHD & n\\\\\n",
       "\\hline\n",
       "\t young & yes   & yes   &  60  \\\\\n",
       "\t young & yes   & no    & 240  \\\\\n",
       "\\end{tabular}\n"
      ],
      "text/markdown": [
       "\n",
       "Age | Smoking | CHD | n | \n",
       "|---|---|\n",
       "| young | yes   | yes   |  60   | \n",
       "| young | yes   | no    | 240   | \n",
       "\n",
       "\n"
      ],
      "text/plain": [
       "  Age   Smoking CHD n  \n",
       "1 young yes     yes  60\n",
       "2 young yes     no  240"
      ]
     },
     "metadata": {},
     "output_type": "display_data"
    }
   ],
   "source": [
    "chd %>% filter(Age==\"young\") %>% filter(Smoking==\"yes\")"
   ]
  },
  {
   "cell_type": "code",
   "execution_count": 14,
   "metadata": {
    "slideshow": {
     "slide_type": "-"
    }
   },
   "outputs": [
    {
     "data": {
      "text/html": [
       "300"
      ],
      "text/latex": [
       "300"
      ],
      "text/markdown": [
       "300"
      ],
      "text/plain": [
       "[1] 300"
      ]
     },
     "metadata": {},
     "output_type": "display_data"
    }
   ],
   "source": [
    "sum(chd %>% filter(Age==\"young\") %>% filter(Smoking==\"yes\") %>% pull(n))"
   ]
  },
  {
   "cell_type": "code",
   "execution_count": 15,
   "metadata": {
    "slideshow": {
     "slide_type": "-"
    }
   },
   "outputs": [
    {
     "data": {
      "text/html": [
       "60"
      ],
      "text/latex": [
       "60"
      ],
      "text/markdown": [
       "60"
      ],
      "text/plain": [
       "[1] 60"
      ]
     },
     "metadata": {},
     "output_type": "display_data"
    }
   ],
   "source": [
    "sum(chd %>% filter(Age==\"young\") %>% filter(Smoking==\"yes\") %>% filter(CHD==\"yes\") %>% pull(n))"
   ]
  },
  {
   "cell_type": "code",
   "execution_count": 16,
   "metadata": {
    "slideshow": {
     "slide_type": "-"
    }
   },
   "outputs": [
    {
     "data": {
      "text/html": [
       "0.2"
      ],
      "text/latex": [
       "0.2"
      ],
      "text/markdown": [
       "0.2"
      ],
      "text/plain": [
       "[1] 0.2"
      ]
     },
     "metadata": {},
     "output_type": "display_data"
    }
   ],
   "source": [
    "60/300"
   ]
  },
  {
   "cell_type": "markdown",
   "metadata": {
    "slideshow": {
     "slide_type": "subslide"
    }
   },
   "source": [
    "#### Calculating $P(D|A′,S′)$  \n",
    "The probability of disease given that someone is young and does not smoke."
   ]
  },
  {
   "cell_type": "code",
   "execution_count": 17,
   "metadata": {
    "slideshow": {
     "slide_type": "-"
    }
   },
   "outputs": [
    {
     "data": {
      "text/html": [
       "<table>\n",
       "<thead><tr><th scope=col>Age</th><th scope=col>Smoking</th><th scope=col>CHD</th><th scope=col>n</th></tr></thead>\n",
       "<tbody>\n",
       "\t<tr><td>young</td><td>no   </td><td>yes  </td><td>105  </td></tr>\n",
       "\t<tr><td>young</td><td>no   </td><td>no   </td><td>595  </td></tr>\n",
       "</tbody>\n",
       "</table>\n"
      ],
      "text/latex": [
       "\\begin{tabular}{r|llll}\n",
       " Age & Smoking & CHD & n\\\\\n",
       "\\hline\n",
       "\t young & no    & yes   & 105  \\\\\n",
       "\t young & no    & no    & 595  \\\\\n",
       "\\end{tabular}\n"
      ],
      "text/markdown": [
       "\n",
       "Age | Smoking | CHD | n | \n",
       "|---|---|\n",
       "| young | no    | yes   | 105   | \n",
       "| young | no    | no    | 595   | \n",
       "\n",
       "\n"
      ],
      "text/plain": [
       "  Age   Smoking CHD n  \n",
       "1 young no      yes 105\n",
       "2 young no      no  595"
      ]
     },
     "metadata": {},
     "output_type": "display_data"
    }
   ],
   "source": [
    "chd %>% filter(Age==\"young\") %>% filter(Smoking==\"no\")"
   ]
  },
  {
   "cell_type": "code",
   "execution_count": 18,
   "metadata": {
    "slideshow": {
     "slide_type": "-"
    }
   },
   "outputs": [
    {
     "data": {
      "text/html": [
       "700"
      ],
      "text/latex": [
       "700"
      ],
      "text/markdown": [
       "700"
      ],
      "text/plain": [
       "[1] 700"
      ]
     },
     "metadata": {},
     "output_type": "display_data"
    }
   ],
   "source": [
    "sum(chd %>% filter(Age==\"young\") %>% filter(Smoking==\"no\") %>% pull(n))"
   ]
  },
  {
   "cell_type": "code",
   "execution_count": 19,
   "metadata": {
    "slideshow": {
     "slide_type": "-"
    }
   },
   "outputs": [
    {
     "data": {
      "text/html": [
       "105"
      ],
      "text/latex": [
       "105"
      ],
      "text/markdown": [
       "105"
      ],
      "text/plain": [
       "[1] 105"
      ]
     },
     "metadata": {},
     "output_type": "display_data"
    }
   ],
   "source": [
    "sum(chd %>% filter(Age==\"young\") %>% filter(Smoking==\"no\") %>% filter(CHD==\"yes\") %>% pull(n))"
   ]
  },
  {
   "cell_type": "code",
   "execution_count": 20,
   "metadata": {
    "slideshow": {
     "slide_type": "-"
    }
   },
   "outputs": [
    {
     "data": {
      "text/html": [
       "0.15"
      ],
      "text/latex": [
       "0.15"
      ],
      "text/markdown": [
       "0.15"
      ],
      "text/plain": [
       "[1] 0.15"
      ]
     },
     "metadata": {},
     "output_type": "display_data"
    }
   ],
   "source": [
    "105/700"
   ]
  },
  {
   "cell_type": "markdown",
   "metadata": {
    "slideshow": {
     "slide_type": "subslide"
    }
   },
   "source": [
    "On your own, calculate these values.\n",
    "- $P(D|A,S)$ and $P(D|A,S′)$. What can we conclude based on the calculated conditional probabilities?\n",
    "- $P(D)$, the marginal probability of disease."
   ]
  },
  {
   "cell_type": "markdown",
   "metadata": {
    "slideshow": {
     "slide_type": "fragment"
    }
   },
   "source": [
    "**$P(D|A',S) = 0.2$** is greater than $P(D|A',S') = 0.15$.   \n",
    "**$P(D|A,S) = 0.6$**  is greater than  $P(D|A,S′) = 0.3$.  "
   ]
  },
  {
   "cell_type": "markdown",
   "metadata": {
    "slideshow": {
     "slide_type": "fragment"
    }
   },
   "source": [
    "$P(D) = \\frac {\\text{# with disease}} {\\text{# of subjects total}} = \\frac{60+105+180+210}{N} = 0.2775$"
   ]
  },
  {
   "cell_type": "code",
   "execution_count": 21,
   "metadata": {
    "slideshow": {
     "slide_type": "skip"
    }
   },
   "outputs": [
    {
     "data": {
      "text/html": [
       "0.2775"
      ],
      "text/latex": [
       "0.2775"
      ],
      "text/markdown": [
       "0.2775"
      ],
      "text/plain": [
       "[1] 0.2775"
      ]
     },
     "metadata": {},
     "output_type": "display_data"
    }
   ],
   "source": [
    "sum(chd %>% filter(CHD==\"yes\") %>% pull(n)) / sum(chd %>% pull(n))"
   ]
  },
  {
   "cell_type": "markdown",
   "metadata": {
    "slideshow": {
     "slide_type": "notes"
    }
   },
   "source": [
    "# *This chunk should be run right after the libraries are read in . I put this chunk down here to keep the lab focusing on concepts instead of coding.*"
   ]
  },
  {
   "cell_type": "code",
   "execution_count": 8,
   "metadata": {
    "slideshow": {
     "slide_type": "notes"
    }
   },
   "outputs": [
    {
     "name": "stderr",
     "output_type": "stream",
     "text": [
      "Parsed with column specification:\n",
      "cols(\n",
      "  artist_name = col_character(),\n",
      "  legal_name = col_character(),\n",
      "  birth_year = col_integer(),\n",
      "  origin = col_character(),\n",
      "  net_worth = col_double(),\n",
      "  start_year = col_integer(),\n",
      "  deceased = col_logical(),\n",
      "  height = col_character()\n",
      ")\n"
     ]
    }
   ],
   "source": [
    "# * DON'T WORRY ABOUT THIS ENTIRE CHUNK\n",
    "rappers <- read_csv(\"../../notes/rappers/data/rappers.csv\")\n",
    "\n",
    "# * CONVERTING HEIGHT INTO FEET\n",
    "height_to_decimal <- function(this_height) {\n",
    "    numeric <- sapply(strsplit(gsub(\"\\\"\", \"\", as.character(this_height)), \"\\'\"), as.numeric)\n",
    "    numeric[1] + (numeric[2] / 12)\n",
    "}\n",
    "height_to_decimal <- Vectorize(height_to_decimal, vectorize.args=\"this_height\")\n",
    "\n",
    "# * USING MUTATE TO ADD USEFUL VALUES\n",
    "rappers <- rappers %>% mutate(height_decimal=height_to_decimal(height))\n",
    "rappers <- rappers %>% mutate(height_decimal=as.numeric(height_decimal))\n",
    "rappers <- rappers %>% mutate(tall=height_decimal > mean(height_decimal))\n",
    "\n",
    "rappers <- rappers %>% mutate(age=2019-birth_year,\n",
    "                              active=2019-start_year)"
   ]
  }
 ],
 "metadata": {
  "kernelspec": {
   "display_name": "R",
   "language": "R",
   "name": "ir"
  },
  "language_info": {
   "codemirror_mode": "r",
   "file_extension": ".r",
   "mimetype": "text/x-r-source",
   "name": "R",
   "pygments_lexer": "r",
   "version": "3.5.1"
  }
 },
 "nbformat": 4,
 "nbformat_minor": 2
}
