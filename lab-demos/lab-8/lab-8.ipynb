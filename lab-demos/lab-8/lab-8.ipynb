{
 "cells": [
  {
   "cell_type": "markdown",
   "metadata": {},
   "source": [
    "# Lab 8. From zee to tea-tests.\n",
    "\n",
    "*Aside: I'm a stats nerd, so I can make so many allusions to statistics when looking at a boba drink. I'll start you up on one then carry on before I get too nuts. Let the liquid part of the dessert be a sample space. Let the crystal jelly stand for Event J, and let the black pearls stand for event B. The sample space is 100%. Do we have intuition on the probabilities of Event B and Event J? Do they add up to 100%?!*\n",
    "\n",
    "*Back on topic:* What do you call the following beverage? Growing up, my friends and I would call it \"boba\". When I hang out with my family in New York, they call it \"bubble tea\". I always found it odd, but not too odd because occasionally \"bubble tea\" would appear on menus.\n",
    "\n",
    "<img src=\"images/boba.jpeg\" width=650>\n",
    "\n",
    "According to <a href=\"https://trends.google.com/trends/explore?date=all&geo=US&q=boba,bubble%20tea\">Google Trends</a>, both terms have increased in search queries over time! The below plot is called a \"time series plot\", and we briefly mentioned time series in the first part of the class.\n",
    "\n",
    "<img src=\"images/ts.png\">\n",
    "\n",
    "And nope, this is not a presidential election map. The blue shows states for which \"boba\" is the more popular term. The red shows states for which \"bubble tea\" is more frequented.\n",
    "\n",
    "<img src=\"images/us-map.png\" width=650>\n",
    "\n"
   ]
  },
  {
   "cell_type": "markdown",
   "metadata": {},
   "source": [
    "## Testing for the mean of \"boba\"\n",
    "Imagine we believed that the Google interest in \"boba\" was 50 points overall for all time periods. Let the data we have stands for a random sample of \"boba\" interest throughout the years. How can we test?"
   ]
  },
  {
   "cell_type": "code",
   "execution_count": 15,
   "metadata": {},
   "outputs": [
    {
     "name": "stderr",
     "output_type": "stream",
     "text": [
      "Parsed with column specification:\n",
      "cols(\n",
      "  Month = col_character(),\n",
      "  boba = col_integer(),\n",
      "  bubbletea = col_integer()\n",
      ")\n"
     ]
    }
   ],
   "source": [
    "library(readr)\n",
    "tapioca <- read_csv(\"data/multiTimeline.csv\")"
   ]
  },
  {
   "cell_type": "markdown",
   "metadata": {},
   "source": [
    "Let's preview the data, which we will consider the data to be an \"independent sample\"! (Even if it's not! Just bare with me, it was a fun pedagogical idea...)"
   ]
  },
  {
   "cell_type": "code",
   "execution_count": 18,
   "metadata": {},
   "outputs": [
    {
     "data": {
      "text/html": [
       "<table>\n",
       "<thead><tr><th scope=col>boba</th></tr></thead>\n",
       "<tbody>\n",
       "\t<tr><td>12</td></tr>\n",
       "\t<tr><td>11</td></tr>\n",
       "\t<tr><td>11</td></tr>\n",
       "\t<tr><td>13</td></tr>\n",
       "\t<tr><td>11</td></tr>\n",
       "\t<tr><td>14</td></tr>\n",
       "</tbody>\n",
       "</table>\n"
      ],
      "text/latex": [
       "\\begin{tabular}{r|l}\n",
       " boba\\\\\n",
       "\\hline\n",
       "\t 12\\\\\n",
       "\t 11\\\\\n",
       "\t 11\\\\\n",
       "\t 13\\\\\n",
       "\t 11\\\\\n",
       "\t 14\\\\\n",
       "\\end{tabular}\n"
      ],
      "text/markdown": [
       "\n",
       "boba | \n",
       "|---|---|---|---|---|---|\n",
       "| 12 | \n",
       "| 11 | \n",
       "| 11 | \n",
       "| 13 | \n",
       "| 11 | \n",
       "| 14 | \n",
       "\n",
       "\n"
      ],
      "text/plain": [
       "  boba\n",
       "1 12  \n",
       "2 11  \n",
       "3 11  \n",
       "4 13  \n",
       "5 11  \n",
       "6 14  "
      ]
     },
     "metadata": {},
     "output_type": "display_data"
    }
   ],
   "source": [
    "head(tapioca %>% select(boba))"
   ]
  },
  {
   "cell_type": "markdown",
   "metadata": {},
   "source": [
    "We are interested in the hypotheses:  \n",
    "\n",
    "$H_0: \\mu=50$  \n",
    "$H_0: \\mu \\neq 50$\n",
    "\n",
    "## Can we use a z-test?\n",
    "**Before we do any test**, we have to check assumptions.\n",
    "\n",
    "1. Is the underlying population normal?\n",
    "2. Do we have an independent, random sample?\n",
    "3. Do we know the population standard deviation?\n",
    "\n",
    "**No,** we can't... because we don't know #3.\n",
    "\n",
    "## Can we do something else?\n",
    "Yes. We can estimate the population standard deviation with the sample standard deviation. A long time ago in a galaxy (the same as this one), William Goset learned the theory behind the t-distribution. Long story short, instead of doing a normal-distribution-based-hypothesis-test, we're going to do a t-distribution-based-hypothesis-test. (I put hyphens so you can tell which pieces go together...)"
   ]
  },
  {
   "cell_type": "code",
   "execution_count": 6,
   "metadata": {},
   "outputs": [
    {
     "data": {
      "text/plain": [
       "\n",
       "\tOne Sample t-test\n",
       "\n",
       "data:  tapioca %>% pull(boba)\n",
       "t = -11.19, df = 182, p-value < 2.2e-16\n",
       "alternative hypothesis: true mean is not equal to 50\n",
       "95 percent confidence interval:\n",
       " 28.96766 35.27278\n",
       "sample estimates:\n",
       "mean of x \n",
       " 32.12022 \n"
      ]
     },
     "metadata": {},
     "output_type": "display_data"
    }
   ],
   "source": [
    "library(dplyr)\n",
    "t.test(tapioca %>% pull(boba), alternative=\"two.sided\", mu=50)"
   ]
  },
  {
   "cell_type": "markdown",
   "metadata": {},
   "source": [
    "## Comparing the mean searches of \"boba\" and \"bubble tea\"\n",
    "Assume we are interested in the mean Google interest of \"boba\" and \"bubble tea\" since 2004 (not exactly something you would do in real life since this is time series data, but it's interesting to try out). I took data from Google Trends  to explore them in R."
   ]
  },
  {
   "cell_type": "markdown",
   "metadata": {},
   "source": [
    "And let's look at some statistics."
   ]
  },
  {
   "cell_type": "code",
   "execution_count": 4,
   "metadata": {},
   "outputs": [
    {
     "name": "stderr",
     "output_type": "stream",
     "text": [
      "\n",
      "Attaching package: ‘dplyr’\n",
      "\n",
      "The following objects are masked from ‘package:stats’:\n",
      "\n",
      "    filter, lag\n",
      "\n",
      "The following objects are masked from ‘package:base’:\n",
      "\n",
      "    intersect, setdiff, setequal, union\n",
      "\n"
     ]
    },
    {
     "data": {
      "text/html": [
       "<table>\n",
       "<thead><tr><th scope=col>avg_boba</th><th scope=col>sd_boba</th><th scope=col>avg_bt</th><th scope=col>sd_bt</th></tr></thead>\n",
       "<tbody>\n",
       "\t<tr><td>32.12022</td><td>21.61442</td><td>13.2623 </td><td>7.501432</td></tr>\n",
       "</tbody>\n",
       "</table>\n"
      ],
      "text/latex": [
       "\\begin{tabular}{r|llll}\n",
       " avg\\_boba & sd\\_boba & avg\\_bt & sd\\_bt\\\\\n",
       "\\hline\n",
       "\t 32.12022 & 21.61442 & 13.2623  & 7.501432\\\\\n",
       "\\end{tabular}\n"
      ],
      "text/markdown": [
       "\n",
       "avg_boba | sd_boba | avg_bt | sd_bt | \n",
       "|---|\n",
       "| 32.12022 | 21.61442 | 13.2623  | 7.501432 | \n",
       "\n",
       "\n"
      ],
      "text/plain": [
       "  avg_boba sd_boba  avg_bt  sd_bt   \n",
       "1 32.12022 21.61442 13.2623 7.501432"
      ]
     },
     "metadata": {},
     "output_type": "display_data"
    }
   ],
   "source": [
    "library(dplyr)\n",
    "tapioca %>% summarize(avg_boba=mean(boba), sd_boba=sd(boba), avg_bt=mean(bubbletea), sd_bt=sd(bubbletea))"
   ]
  },
  {
   "cell_type": "code",
   "execution_count": 20,
   "metadata": {},
   "outputs": [
    {
     "data": {
      "text/html": [
       "<table>\n",
       "<thead><tr><th scope=col>Month</th><th scope=col>boba</th><th scope=col>bubbletea</th></tr></thead>\n",
       "<tbody>\n",
       "\t<tr><td>2004-01</td><td>12     </td><td> 7     </td></tr>\n",
       "\t<tr><td>2004-02</td><td>11     </td><td> 8     </td></tr>\n",
       "\t<tr><td>2004-03</td><td>11     </td><td> 9     </td></tr>\n",
       "\t<tr><td>2004-04</td><td>13     </td><td>10     </td></tr>\n",
       "\t<tr><td>2004-05</td><td>11     </td><td> 8     </td></tr>\n",
       "\t<tr><td>2004-06</td><td>14     </td><td> 7     </td></tr>\n",
       "</tbody>\n",
       "</table>\n"
      ],
      "text/latex": [
       "\\begin{tabular}{r|lll}\n",
       " Month & boba & bubbletea\\\\\n",
       "\\hline\n",
       "\t 2004-01 & 12      &  7     \\\\\n",
       "\t 2004-02 & 11      &  8     \\\\\n",
       "\t 2004-03 & 11      &  9     \\\\\n",
       "\t 2004-04 & 13      & 10     \\\\\n",
       "\t 2004-05 & 11      &  8     \\\\\n",
       "\t 2004-06 & 14      &  7     \\\\\n",
       "\\end{tabular}\n"
      ],
      "text/markdown": [
       "\n",
       "Month | boba | bubbletea | \n",
       "|---|---|---|---|---|---|\n",
       "| 2004-01 | 12      |  7      | \n",
       "| 2004-02 | 11      |  8      | \n",
       "| 2004-03 | 11      |  9      | \n",
       "| 2004-04 | 13      | 10      | \n",
       "| 2004-05 | 11      |  8      | \n",
       "| 2004-06 | 14      |  7      | \n",
       "\n",
       "\n"
      ],
      "text/plain": [
       "  Month   boba bubbletea\n",
       "1 2004-01 12    7       \n",
       "2 2004-02 11    8       \n",
       "3 2004-03 11    9       \n",
       "4 2004-04 13   10       \n",
       "5 2004-05 11    8       \n",
       "6 2004-06 14    7       "
      ]
     },
     "metadata": {},
     "output_type": "display_data"
    }
   ],
   "source": [
    "head(tapioca)"
   ]
  },
  {
   "cell_type": "markdown",
   "metadata": {},
   "source": [
    "Do the averages between \"boba\" and \"bubble tea\" look about the same?\n",
    "\n",
    "I'm going to use `melt()` to reshape my data. Don't worry about this function."
   ]
  },
  {
   "cell_type": "code",
   "execution_count": 5,
   "metadata": {},
   "outputs": [],
   "source": [
    "library(reshape2)\n",
    "tapioca <- melt(tapioca, id.vars=\"Month\")"
   ]
  },
  {
   "cell_type": "code",
   "execution_count": 25,
   "metadata": {},
   "outputs": [
    {
     "data": {},
     "metadata": {},
     "output_type": "display_data"
    },
    {
     "data": {
      "image/png": "[encoded data removed]",
      "text/plain": [
       "plot without title"
      ]
     },
     "metadata": {},
     "output_type": "display_data"
    }
   ],
   "source": [
    "library(ggplot2)\n",
    "library(RColorBrewer)\n",
    "ggplot(tapioca, aes(y=value, group=variable, fill=variable)) + \n",
    "    geom_boxplot() + \n",
    "    xlab(\"\") + \n",
    "    ggtitle(\"Interest in Boba and Bubble Tea on Google\") +\n",
    "    theme_bw() +\n",
    "    scale_fill_manual(values = c(\"dodgerblue\", \"firebrick2\"))"
   ]
  },
  {
   "cell_type": "markdown",
   "metadata": {},
   "source": [
    "The boxplots look different front each other in different ways. Look back at your previous notes and describe the differences using statistical language. While the boxplots are indeed different, they overlap! How can we test if the means are really different from one another?\n",
    "\n",
    "\n",
    "$H_0: \\mu_{\\text{Boba}} = \\mu_{\\text{Bubble tea}}$  \n",
    "$H_1: \\mu_{\\text{Boba}} \\neq \\mu_{\\text{Bubble tea}}$  "
   ]
  },
  {
   "cell_type": "markdown",
   "metadata": {},
   "source": [
    "### By hand"
   ]
  },
  {
   "cell_type": "code",
   "execution_count": 23,
   "metadata": {},
   "outputs": [
    {
     "data": {
      "text/html": [
       "18.8579234972678"
      ],
      "text/latex": [
       "18.8579234972678"
      ],
      "text/markdown": [
       "18.8579234972678"
      ],
      "text/plain": [
       "[1] 18.85792"
      ]
     },
     "metadata": {},
     "output_type": "display_data"
    }
   ],
   "source": [
    "# * BY HAND PT. 1/\n",
    "diff_in_mean <- mean(tapioca$boba) - mean(tapioca$bubbletea)\n",
    "diff_in_mean"
   ]
  },
  {
   "cell_type": "code",
   "execution_count": 27,
   "metadata": {},
   "outputs": [
    {
     "data": {
      "text/html": [
       "1.69127421956879"
      ],
      "text/latex": [
       "1.69127421956879"
      ],
      "text/markdown": [
       "1.69127421956879"
      ],
      "text/plain": [
       "[1] 1.691274"
      ]
     },
     "metadata": {},
     "output_type": "display_data"
    }
   ],
   "source": [
    "# * BY HAND PT. 2/\n",
    "se <- sqrt((var(tapioca$boba) / nrow(tapioca)) + (var(tapioca$bubbletea) / nrow(tapioca)))\n",
    "se"
   ]
  },
  {
   "cell_type": "code",
   "execution_count": null,
   "metadata": {},
   "outputs": [],
   "source": [
    "# * BY HAND PT. 3/\n",
    "t <- diff_in_mean / se\n",
    "t"
   ]
  },
  {
   "cell_type": "markdown",
   "metadata": {},
   "source": [
    "Without knowing our degrees of freedom before going into this, we're not going to be able to calculate the p-value \"by hand\". In this class, you do not need to calculate the degrees of freedom for a two sample t-test. Let $df = 225.22$."
   ]
  },
  {
   "cell_type": "code",
   "execution_count": 34,
   "metadata": {},
   "outputs": [
    {
     "data": {
      "text/html": [
       "0"
      ],
      "text/latex": [
       "0"
      ],
      "text/markdown": [
       "0"
      ],
      "text/plain": [
       "[1] 0"
      ]
     },
     "metadata": {},
     "output_type": "display_data"
    }
   ],
   "source": [
    "# * BY HAND PT. 4/4\n",
    "2*(1-pt(t, 225.22))"
   ]
  },
  {
   "cell_type": "markdown",
   "metadata": {},
   "source": [
    "Some points:  \n",
    "- I multipled by 2 because I have a two-sided test.  \n",
    "- I subtracted the `pt()` from 1 because my `diff_in_mean` > 0. If it was < 0, then I wouldn't subtract from 1.  \n",
    "- There is an *almost* 0% chance of observing the data that we did GIVEN that the two distributions have the same mean. (*Almost* because there is some rounding done on the computer that we don't see.)"
   ]
  },
  {
   "cell_type": "markdown",
   "metadata": {},
   "source": [
    "### Using R functions (t.test and dplyr functions)"
   ]
  },
  {
   "cell_type": "code",
   "execution_count": 8,
   "metadata": {},
   "outputs": [
    {
     "data": {
      "text/plain": [
       "\n",
       "\tWelch Two Sample t-test\n",
       "\n",
       "data:  tapioca %>% pull(boba) and tapioca %>% pull(bubbletea)\n",
       "t = 11.15, df = 225.22, p-value < 2.2e-16\n",
       "alternative hypothesis: true difference in means is not equal to 0\n",
       "95 percent confidence interval:\n",
       " 15.52518 22.19067\n",
       "sample estimates:\n",
       "mean of x mean of y \n",
       " 32.12022  13.26230 \n"
      ]
     },
     "metadata": {},
     "output_type": "display_data"
    }
   ],
   "source": [
    "# * USING R FUNCTION\n",
    "t.test(x=tapioca %>% pull(boba), y=tapioca %>% pull(bubbletea), alternative=\"two.sided\")"
   ]
  },
  {
   "cell_type": "markdown",
   "metadata": {},
   "source": [
    "## Treating the data as paired\n",
    "These data, technically, can be treated as pairs since they are taken at the same time point and have to deal with the interest in the same subject matter (gooey starch balls!) The hypotheses will change now.\n",
    "\n",
    "$H_0: D_i=0 \\, \\, \\forall i$  \n",
    "$H_1: D_i \\neq 0 \\text{ for some } i$  "
   ]
  },
  {
   "cell_type": "code",
   "execution_count": 10,
   "metadata": {},
   "outputs": [
    {
     "data": {
      "text/html": [
       "<table>\n",
       "<thead><tr><th scope=col>Month</th><th scope=col>boba</th><th scope=col>bubbletea</th><th scope=col>boba - bubbletea</th></tr></thead>\n",
       "<tbody>\n",
       "\t<tr><td>2004-01</td><td>12     </td><td> 7     </td><td>5      </td></tr>\n",
       "\t<tr><td>2004-02</td><td>11     </td><td> 8     </td><td>3      </td></tr>\n",
       "\t<tr><td>2004-03</td><td>11     </td><td> 9     </td><td>2      </td></tr>\n",
       "\t<tr><td>2004-04</td><td>13     </td><td>10     </td><td>3      </td></tr>\n",
       "\t<tr><td>2004-05</td><td>11     </td><td> 8     </td><td>3      </td></tr>\n",
       "\t<tr><td>2004-06</td><td>14     </td><td> 7     </td><td>7      </td></tr>\n",
       "</tbody>\n",
       "</table>\n"
      ],
      "text/latex": [
       "\\begin{tabular}{r|llll}\n",
       " Month & boba & bubbletea & boba - bubbletea\\\\\n",
       "\\hline\n",
       "\t 2004-01 & 12      &  7      & 5      \\\\\n",
       "\t 2004-02 & 11      &  8      & 3      \\\\\n",
       "\t 2004-03 & 11      &  9      & 2      \\\\\n",
       "\t 2004-04 & 13      & 10      & 3      \\\\\n",
       "\t 2004-05 & 11      &  8      & 3      \\\\\n",
       "\t 2004-06 & 14      &  7      & 7      \\\\\n",
       "\\end{tabular}\n"
      ],
      "text/markdown": [
       "\n",
       "Month | boba | bubbletea | boba - bubbletea | \n",
       "|---|---|---|---|---|---|\n",
       "| 2004-01 | 12      |  7      | 5       | \n",
       "| 2004-02 | 11      |  8      | 3       | \n",
       "| 2004-03 | 11      |  9      | 2       | \n",
       "| 2004-04 | 13      | 10      | 3       | \n",
       "| 2004-05 | 11      |  8      | 3       | \n",
       "| 2004-06 | 14      |  7      | 7       | \n",
       "\n",
       "\n"
      ],
      "text/plain": [
       "  Month   boba bubbletea boba - bubbletea\n",
       "1 2004-01 12    7        5               \n",
       "2 2004-02 11    8        3               \n",
       "3 2004-03 11    9        2               \n",
       "4 2004-04 13   10        3               \n",
       "5 2004-05 11    8        3               \n",
       "6 2004-06 14    7        7               "
      ]
     },
     "metadata": {},
     "output_type": "display_data"
    }
   ],
   "source": [
    "head(tapioca %>% mutate(boba-bubbletea))"
   ]
  },
  {
   "cell_type": "code",
   "execution_count": 13,
   "metadata": {},
   "outputs": [
    {
     "data": {
      "text/plain": [
       "\n",
       "\tOne Sample t-test\n",
       "\n",
       "data:  tapioca %>% pull(d)\n",
       "t = 16.966, df = 182, p-value < 2.2e-16\n",
       "alternative hypothesis: true mean is not equal to 0\n",
       "95 percent confidence interval:\n",
       " 16.66481 21.05103\n",
       "sample estimates:\n",
       "mean of x \n",
       " 18.85792 \n"
      ]
     },
     "metadata": {},
     "output_type": "display_data"
    }
   ],
   "source": [
    "tapioca <- tapioca %>% mutate(d=boba-bubbletea)\n",
    "t.test(tapioca %>% pull(d), alternative=\"two.sided\")"
   ]
  }
 ],
 "metadata": {
  "kernelspec": {
   "display_name": "R",
   "language": "R",
   "name": "ir"
  },
  "language_info": {
   "codemirror_mode": "r",
   "file_extension": ".r",
   "mimetype": "text/x-r-source",
   "name": "R",
   "pygments_lexer": "r",
   "version": "3.5.1"
  }
 },
 "nbformat": 4,
 "nbformat_minor": 2
}
