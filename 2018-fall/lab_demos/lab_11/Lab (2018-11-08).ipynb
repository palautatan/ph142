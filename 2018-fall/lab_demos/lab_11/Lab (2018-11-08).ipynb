{
 "cells": [
  {
   "cell_type": "markdown",
   "metadata": {},
   "source": [
    "# Lab: Relationship between Z-test and Chi-square test\n",
    "Good morning/afternoon. Today, we're exploring the relationship between these two tests.\n",
    "\n",
    "## Main Point\n",
    "- The $\\chi^2$ statistic is the z-test statistic squared.\n",
    "- The p-values you get for testing the \"same\" hypotheses using the two different methods are the same.\n",
    "\n",
    "I can mic drop right here. You can leave the room now."
   ]
  },
  {
   "cell_type": "code",
   "execution_count": 1,
   "metadata": {},
   "outputs": [
    {
     "name": "stderr",
     "output_type": "stream",
     "text": [
      "\n",
      "Attaching package: ‘dplyr’\n",
      "\n",
      "The following objects are masked from ‘package:stats’:\n",
      "\n",
      "    filter, lag\n",
      "\n",
      "The following objects are masked from ‘package:base’:\n",
      "\n",
      "    intersect, setdiff, setequal, union\n",
      "\n"
     ]
    }
   ],
   "source": [
    "# LIBRARIES\n",
    "library(readr)\n",
    "library(dplyr)"
   ]
  },
  {
   "cell_type": "markdown",
   "metadata": {},
   "source": [
    "## Our Dataset\n",
    "Flashback to the 60's.\n",
    "\n",
    "### Background\n",
    "- Collected to assess the effects of behavior type on coronary heart disease (CHD)\n",
    "- 3524 men were enrolled, aged 39-59 from corporations in California\n",
    "- Each individuals behavior type was assessed during an interview\n",
    "- Full data is available for 3142 participants.\n",
    "- Of these, 257 (8.2%) had a CHD event.\n",
    "\n",
    "### What the rows mean\n",
    "- `chd69=1` implies that a CHD event occurred vs. `chd69=0` codes no CHD event.\n",
    "- `dibpat0=1` codes participants with a \"Type A\" personality and `dibpat0=0` codes participants with a \"Type B\" personality.\n",
    "- Here, CHD is the response variable and personality type is the explanatory variable."
   ]
  },
  {
   "cell_type": "code",
   "execution_count": 2,
   "metadata": {
    "scrolled": true
   },
   "outputs": [
    {
     "name": "stderr",
     "output_type": "stream",
     "text": [
      "Parsed with column specification:\n",
      "cols(\n",
      "  id = col_integer(),\n",
      "  age0 = col_integer(),\n",
      "  height0 = col_integer(),\n",
      "  weight0 = col_integer(),\n",
      "  sbp0 = col_integer(),\n",
      "  dbp0 = col_integer(),\n",
      "  chol0 = col_integer(),\n",
      "  behpat0 = col_integer(),\n",
      "  ncigs0 = col_integer(),\n",
      "  dibpat0 = col_integer(),\n",
      "  chd69 = col_integer(),\n",
      "  arcus0 = col_integer(),\n",
      "  cigs = col_integer()\n",
      ")\n"
     ]
    }
   ],
   "source": [
    "# READ IN DATA\n",
    "dat <- read_csv(\"data/lab_11.csv\")"
   ]
  },
  {
   "cell_type": "code",
   "execution_count": 3,
   "metadata": {},
   "outputs": [
    {
     "data": {
      "text/html": [
       "<table>\n",
       "<thead><tr><th scope=col>id</th><th scope=col>age0</th><th scope=col>height0</th><th scope=col>weight0</th><th scope=col>sbp0</th><th scope=col>dbp0</th><th scope=col>chol0</th><th scope=col>behpat0</th><th scope=col>ncigs0</th><th scope=col>dibpat0</th><th scope=col>chd69</th><th scope=col>arcus0</th><th scope=col>cigs</th></tr></thead>\n",
       "<tbody>\n",
       "\t<tr><td> 6092</td><td>45   </td><td>70   </td><td>168  </td><td>118  </td><td>84   </td><td>275  </td><td>3    </td><td>14   </td><td>0    </td><td>0    </td><td>0    </td><td>1    </td></tr>\n",
       "\t<tr><td> 3579</td><td>40   </td><td>75   </td><td>163  </td><td>116  </td><td>72   </td><td>199  </td><td>2    </td><td> 0   </td><td>1    </td><td>0    </td><td>0    </td><td>0    </td></tr>\n",
       "\t<tr><td>12671</td><td>48   </td><td>70   </td><td>173  </td><td>138  </td><td>88   </td><td>197  </td><td>1    </td><td> 0   </td><td>1    </td><td>0    </td><td>0    </td><td>0    </td></tr>\n",
       "\t<tr><td>13074</td><td>39   </td><td>72   </td><td>170  </td><td>110  </td><td>76   </td><td>259  </td><td>1    </td><td>40   </td><td>1    </td><td>0    </td><td>0    </td><td>3    </td></tr>\n",
       "\t<tr><td>10366</td><td>49   </td><td>69   </td><td>182  </td><td>122  </td><td>82   </td><td>238  </td><td>3    </td><td> 0   </td><td>0    </td><td>0    </td><td>1    </td><td>0    </td></tr>\n",
       "\t<tr><td> 3496</td><td>40   </td><td>66   </td><td>145  </td><td>126  </td><td>70   </td><td>195  </td><td>4    </td><td> 0   </td><td>0    </td><td>0    </td><td>0    </td><td>0    </td></tr>\n",
       "</tbody>\n",
       "</table>\n"
      ],
      "text/latex": [
       "\\begin{tabular}{r|lllllllllllll}\n",
       " id & age0 & height0 & weight0 & sbp0 & dbp0 & chol0 & behpat0 & ncigs0 & dibpat0 & chd69 & arcus0 & cigs\\\\\n",
       "\\hline\n",
       "\t  6092 & 45    & 70    & 168   & 118   & 84    & 275   & 3     & 14    & 0     & 0     & 0     & 1    \\\\\n",
       "\t  3579 & 40    & 75    & 163   & 116   & 72    & 199   & 2     &  0    & 1     & 0     & 0     & 0    \\\\\n",
       "\t 12671 & 48    & 70    & 173   & 138   & 88    & 197   & 1     &  0    & 1     & 0     & 0     & 0    \\\\\n",
       "\t 13074 & 39    & 72    & 170   & 110   & 76    & 259   & 1     & 40    & 1     & 0     & 0     & 3    \\\\\n",
       "\t 10366 & 49    & 69    & 182   & 122   & 82    & 238   & 3     &  0    & 0     & 0     & 1     & 0    \\\\\n",
       "\t  3496 & 40    & 66    & 145   & 126   & 70    & 195   & 4     &  0    & 0     & 0     & 0     & 0    \\\\\n",
       "\\end{tabular}\n"
      ],
      "text/markdown": [
       "\n",
       "id | age0 | height0 | weight0 | sbp0 | dbp0 | chol0 | behpat0 | ncigs0 | dibpat0 | chd69 | arcus0 | cigs | \n",
       "|---|---|---|---|---|---|\n",
       "|  6092 | 45    | 70    | 168   | 118   | 84    | 275   | 3     | 14    | 0     | 0     | 0     | 1     | \n",
       "|  3579 | 40    | 75    | 163   | 116   | 72    | 199   | 2     |  0    | 1     | 0     | 0     | 0     | \n",
       "| 12671 | 48    | 70    | 173   | 138   | 88    | 197   | 1     |  0    | 1     | 0     | 0     | 0     | \n",
       "| 13074 | 39    | 72    | 170   | 110   | 76    | 259   | 1     | 40    | 1     | 0     | 0     | 3     | \n",
       "| 10366 | 49    | 69    | 182   | 122   | 82    | 238   | 3     |  0    | 0     | 0     | 1     | 0     | \n",
       "|  3496 | 40    | 66    | 145   | 126   | 70    | 195   | 4     |  0    | 0     | 0     | 0     | 0     | \n",
       "\n",
       "\n"
      ],
      "text/plain": [
       "  id    age0 height0 weight0 sbp0 dbp0 chol0 behpat0 ncigs0 dibpat0 chd69\n",
       "1  6092 45   70      168     118  84   275   3       14     0       0    \n",
       "2  3579 40   75      163     116  72   199   2        0     1       0    \n",
       "3 12671 48   70      173     138  88   197   1        0     1       0    \n",
       "4 13074 39   72      170     110  76   259   1       40     1       0    \n",
       "5 10366 49   69      182     122  82   238   3        0     0       0    \n",
       "6  3496 40   66      145     126  70   195   4        0     0       0    \n",
       "  arcus0 cigs\n",
       "1 0      1   \n",
       "2 0      0   \n",
       "3 0      0   \n",
       "4 0      3   \n",
       "5 1      0   \n",
       "6 0      0   "
      ]
     },
     "metadata": {},
     "output_type": "display_data"
    }
   ],
   "source": [
    "# PREVIEW DATA\n",
    "head(dat)"
   ]
  },
  {
   "cell_type": "markdown",
   "metadata": {},
   "source": [
    "## Hypotheses\n",
    "Recognize that we're testing for independence.\n",
    "<br>\n",
    "Because we're working with a 2x2 contingency table (as you'll see soon), the hypotheses narrow down to the same thing.\n",
    "\n",
    "$H_0$: P(CHD=1|Type A) = P(CHD=1|Type B)\n",
    "<br>\n",
    "$H_1$: P(CHD=1|Type A) $\\neq$ P(CHD=1|Type B)\n",
    "\n",
    "## Two Sample Z-Test\n",
    "#### By Hand Calculation"
   ]
  },
  {
   "cell_type": "code",
   "execution_count": 4,
   "metadata": {},
   "outputs": [
    {
     "data": {
      "text/html": [
       "<table>\n",
       "<thead><tr><th scope=col>overall_p</th><th scope=col>se</th></tr></thead>\n",
       "<tbody>\n",
       "\t<tr><td>0.095     </td><td>0.04146685</td></tr>\n",
       "</tbody>\n",
       "</table>\n"
      ],
      "text/latex": [
       "\\begin{tabular}{r|ll}\n",
       " overall\\_p & se\\\\\n",
       "\\hline\n",
       "\t 0.095      & 0.04146685\\\\\n",
       "\\end{tabular}\n"
      ],
      "text/markdown": [
       "\n",
       "overall_p | se | \n",
       "|---|\n",
       "| 0.095      | 0.04146685 | \n",
       "\n",
       "\n"
      ],
      "text/plain": [
       "  overall_p se        \n",
       "1 0.095     0.04146685"
      ]
     },
     "metadata": {},
     "output_type": "display_data"
    }
   ],
   "source": [
    "# THE OVERALL PROPORTION\n",
    "# OFTEN CALLED \"POOLED\"\n",
    "overall_p <- dat %>% \n",
    "             summarize(overall_p = mean(chd69),\n",
    "                       se = sqrt(overall_p*(1-overall_p)*(1/100 + 1/100)))\n",
    "overall_p"
   ]
  },
  {
   "cell_type": "code",
   "execution_count": 5,
   "metadata": {},
   "outputs": [],
   "source": [
    "# CALCULATE THE POPULATION STATS\n",
    "summary_stats <- dat %>% \n",
    "                 group_by(dibpat0) %>%\n",
    "                 summarize(n = n(), propCHD = mean(chd69))"
   ]
  },
  {
   "cell_type": "code",
   "execution_count": 6,
   "metadata": {},
   "outputs": [
    {
     "data": {
      "text/html": [
       "<table>\n",
       "<thead><tr><th scope=col>dibpat0</th><th scope=col>n</th><th scope=col>propCHD</th></tr></thead>\n",
       "<tbody>\n",
       "\t<tr><td>0   </td><td>100 </td><td>0.03</td></tr>\n",
       "\t<tr><td>1   </td><td>100 </td><td>0.16</td></tr>\n",
       "</tbody>\n",
       "</table>\n"
      ],
      "text/latex": [
       "\\begin{tabular}{r|lll}\n",
       " dibpat0 & n & propCHD\\\\\n",
       "\\hline\n",
       "\t 0    & 100  & 0.03\\\\\n",
       "\t 1    & 100  & 0.16\\\\\n",
       "\\end{tabular}\n"
      ],
      "text/markdown": [
       "\n",
       "dibpat0 | n | propCHD | \n",
       "|---|---|\n",
       "| 0    | 100  | 0.03 | \n",
       "| 1    | 100  | 0.16 | \n",
       "\n",
       "\n"
      ],
      "text/plain": [
       "  dibpat0 n   propCHD\n",
       "1 0       100 0.03   \n",
       "2 1       100 0.16   "
      ]
     },
     "metadata": {},
     "output_type": "display_data"
    }
   ],
   "source": [
    "# BASE OUR TEST OFF OF THIS\n",
    "summary_stats"
   ]
  },
  {
   "cell_type": "markdown",
   "metadata": {},
   "source": [
    "Using the above values, we calculate our z-statistic in the form of: \"Proportion of Two Populations\" from the bCourses Statistical Inference Reference Sheet."
   ]
  },
  {
   "cell_type": "code",
   "execution_count": 7,
   "metadata": {},
   "outputs": [
    {
     "data": {
      "text/html": [
       "3.13503437082875"
      ],
      "text/latex": [
       "3.13503437082875"
      ],
      "text/markdown": [
       "3.13503437082875"
      ],
      "text/plain": [
       "[1] 3.135034"
      ]
     },
     "metadata": {},
     "output_type": "display_data"
    }
   ],
   "source": [
    "# Z-TEST STATISTIC\n",
    "z_stat <- (0.16 - 0.03) / 0.04146685\n",
    "z_stat"
   ]
  },
  {
   "cell_type": "code",
   "execution_count": 8,
   "metadata": {},
   "outputs": [
    {
     "data": {
      "text/html": [
       "0.00171833977337647"
      ],
      "text/latex": [
       "0.00171833977337647"
      ],
      "text/markdown": [
       "0.00171833977337647"
      ],
      "text/plain": [
       "[1] 0.00171834"
      ]
     },
     "metadata": {},
     "output_type": "display_data"
    }
   ],
   "source": [
    "# TWO-SIDED\n",
    "p_value <- pnorm(q = z_stat, lower.tail = F)*2\n",
    "p_value"
   ]
  },
  {
   "cell_type": "markdown",
   "metadata": {},
   "source": [
    "#### Using R\n",
    "Now that we've seen the machinery... take a shortcut."
   ]
  },
  {
   "cell_type": "code",
   "execution_count": 9,
   "metadata": {},
   "outputs": [
    {
     "data": {
      "text/plain": [
       "\n",
       "\t2-sample test for equality of proportions without continuity\n",
       "\tcorrection\n",
       "\n",
       "data:  c(3, 16) out of c(100, 100)\n",
       "X-squared = 9.8284, df = 1, p-value = 0.001718\n",
       "alternative hypothesis: two.sided\n",
       "95 percent confidence interval:\n",
       " -0.2092514 -0.0507486\n",
       "sample estimates:\n",
       "prop 1 prop 2 \n",
       "  0.03   0.16 \n"
      ]
     },
     "metadata": {},
     "output_type": "display_data"
    }
   ],
   "source": [
    "# WOW, I PREFER THIS\n",
    "prop.test(x = c(3, 16), n = c(100, 100), correct = F)"
   ]
  },
  {
   "cell_type": "markdown",
   "metadata": {},
   "source": [
    "# Chi-square Test for GOF\n",
    "\n",
    "#### By Hand Calculation\n",
    "Consult bCourses `Files > Ch21_Inference-catergoical-var-greater-than-2-levels.pdf` for the test statistic."
   ]
  },
  {
   "cell_type": "code",
   "execution_count": 10,
   "metadata": {},
   "outputs": [
    {
     "data": {
      "text/html": [
       "<table>\n",
       "<tbody>\n",
       "\t<tr><td> 3</td><td>97</td></tr>\n",
       "\t<tr><td>16</td><td>84</td></tr>\n",
       "</tbody>\n",
       "</table>\n"
      ],
      "text/latex": [
       "\\begin{tabular}{ll}\n",
       "\t  3 & 97\\\\\n",
       "\t 16 & 84\\\\\n",
       "\\end{tabular}\n"
      ],
      "text/markdown": [
       "\n",
       "|  3 | 97 | \n",
       "| 16 | 84 | \n",
       "\n",
       "\n"
      ],
      "text/plain": [
       "     [,1] [,2]\n",
       "[1,]  3   97  \n",
       "[2,] 16   84  "
      ]
     },
     "metadata": {},
     "output_type": "display_data"
    }
   ],
   "source": [
    "two_way <- matrix(c(3, 97, 16, 84), byrow=TRUE, nrow=2)\n",
    "\n",
    "two_way"
   ]
  },
  {
   "cell_type": "code",
   "execution_count": 11,
   "metadata": {},
   "outputs": [],
   "source": [
    "row.names(two_way) <- c(\"type a\", \"type b\")\n",
    "colnames(two_way) <- c(\"chd=1\", \"chd=0\")"
   ]
  },
  {
   "cell_type": "code",
   "execution_count": 12,
   "metadata": {},
   "outputs": [
    {
     "data": {
      "text/html": [
       "<table>\n",
       "<thead><tr><th></th><th scope=col>chd=1</th><th scope=col>chd=0</th></tr></thead>\n",
       "<tbody>\n",
       "\t<tr><th scope=row>type a</th><td> 3</td><td>97</td></tr>\n",
       "\t<tr><th scope=row>type b</th><td>16</td><td>84</td></tr>\n",
       "</tbody>\n",
       "</table>\n"
      ],
      "text/latex": [
       "\\begin{tabular}{r|ll}\n",
       "  & chd=1 & chd=0\\\\\n",
       "\\hline\n",
       "\ttype a &  3 & 97\\\\\n",
       "\ttype b & 16 & 84\\\\\n",
       "\\end{tabular}\n"
      ],
      "text/markdown": [
       "\n",
       "| <!--/--> | chd=1 | chd=0 | \n",
       "|---|---|\n",
       "| type a |  3 | 97 | \n",
       "| type b | 16 | 84 | \n",
       "\n",
       "\n"
      ],
      "text/plain": [
       "       chd=1 chd=0\n",
       "type a  3    97   \n",
       "type b 16    84   "
      ]
     },
     "metadata": {},
     "output_type": "display_data"
    }
   ],
   "source": [
    "two_way"
   ]
  },
  {
   "cell_type": "markdown",
   "metadata": {},
   "source": [
    "We need to calculate marginals."
   ]
  },
  {
   "cell_type": "code",
   "execution_count": 13,
   "metadata": {},
   "outputs": [],
   "source": [
    "totals_1 <- c(3+97, 16+84)\n",
    "totals_2 <- c(3+16, 97+84, 3+97+16+84)"
   ]
  },
  {
   "cell_type": "code",
   "execution_count": 14,
   "metadata": {},
   "outputs": [
    {
     "data": {
      "text/html": [
       "<table>\n",
       "<thead><tr><th></th><th scope=col>chd=1</th><th scope=col>chd=0</th><th scope=col>totals_1</th></tr></thead>\n",
       "<tbody>\n",
       "\t<tr><th scope=row>type a</th><td> 3 </td><td> 97</td><td>100</td></tr>\n",
       "\t<tr><th scope=row>type b</th><td>16 </td><td> 84</td><td>100</td></tr>\n",
       "\t<tr><th scope=row>totals_2</th><td>19 </td><td>181</td><td>200</td></tr>\n",
       "</tbody>\n",
       "</table>\n"
      ],
      "text/latex": [
       "\\begin{tabular}{r|lll}\n",
       "  & chd=1 & chd=0 & totals\\_1\\\\\n",
       "\\hline\n",
       "\ttype a &  3  &  97 & 100\\\\\n",
       "\ttype b & 16  &  84 & 100\\\\\n",
       "\ttotals\\_2 & 19  & 181 & 200\\\\\n",
       "\\end{tabular}\n"
      ],
      "text/markdown": [
       "\n",
       "| <!--/--> | chd=1 | chd=0 | totals_1 | \n",
       "|---|---|---|\n",
       "| type a |  3  |  97 | 100 | \n",
       "| type b | 16  |  84 | 100 | \n",
       "| totals_2 | 19  | 181 | 200 | \n",
       "\n",
       "\n"
      ],
      "text/plain": [
       "         chd=1 chd=0 totals_1\n",
       "type a    3     97   100     \n",
       "type b   16     84   100     \n",
       "totals_2 19    181   200     "
      ]
     },
     "metadata": {},
     "output_type": "display_data"
    }
   ],
   "source": [
    "two_way <- rbind(cbind(two_way, totals_1), totals_2)\n",
    "two_way"
   ]
  },
  {
   "cell_type": "markdown",
   "metadata": {},
   "source": [
    "Get the \"$E_i-O$\"'s."
   ]
  },
  {
   "cell_type": "code",
   "execution_count": 15,
   "metadata": {},
   "outputs": [],
   "source": [
    "ei_rows <- c(19*100/200, 181*100/200)"
   ]
  },
  {
   "cell_type": "markdown",
   "metadata": {},
   "source": [
    "Note that the rows won't always be identical. This is just the case because we have an even amount of samples in each category."
   ]
  },
  {
   "cell_type": "code",
   "execution_count": 18,
   "metadata": {},
   "outputs": [
    {
     "data": {
      "text/html": [
       "<table>\n",
       "<tbody>\n",
       "\t<tr><th scope=row>ei_rows</th><td>9.5 </td><td>90.5</td></tr>\n",
       "\t<tr><th scope=row>ei_rows</th><td>9.5 </td><td>90.5</td></tr>\n",
       "</tbody>\n",
       "</table>\n"
      ],
      "text/latex": [
       "\\begin{tabular}{r|ll}\n",
       "\tei\\_rows & 9.5  & 90.5\\\\\n",
       "\tei\\_rows & 9.5  & 90.5\\\\\n",
       "\\end{tabular}\n"
      ],
      "text/markdown": [
       "\n",
       "| ei_rows | 9.5  | 90.5 | \n",
       "| ei_rows | 9.5  | 90.5 | \n",
       "\n",
       "\n"
      ],
      "text/plain": [
       "        [,1] [,2]\n",
       "ei_rows 9.5  90.5\n",
       "ei_rows 9.5  90.5"
      ]
     },
     "metadata": {},
     "output_type": "display_data"
    }
   ],
   "source": [
    "expected_counts <- rbind(ei_rows, ei_rows)\n",
    "expected_counts"
   ]
  },
  {
   "cell_type": "code",
   "execution_count": 17,
   "metadata": {},
   "outputs": [
    {
     "data": {
      "text/html": [
       "<table>\n",
       "<thead><tr><th></th><th scope=col>chd=1</th><th scope=col>chd=0</th></tr></thead>\n",
       "<tbody>\n",
       "\t<tr><th scope=row>type a</th><td>-6.5</td><td> 6.5</td></tr>\n",
       "\t<tr><th scope=row>type b</th><td> 6.5</td><td>-6.5</td></tr>\n",
       "</tbody>\n",
       "</table>\n"
      ],
      "text/latex": [
       "\\begin{tabular}{r|ll}\n",
       "  & chd=1 & chd=0\\\\\n",
       "\\hline\n",
       "\ttype a & -6.5 &  6.5\\\\\n",
       "\ttype b &  6.5 & -6.5\\\\\n",
       "\\end{tabular}\n"
      ],
      "text/markdown": [
       "\n",
       "| <!--/--> | chd=1 | chd=0 | \n",
       "|---|---|\n",
       "| type a | -6.5 |  6.5 | \n",
       "| type b |  6.5 | -6.5 | \n",
       "\n",
       "\n"
      ],
      "text/plain": [
       "       chd=1 chd=0\n",
       "type a -6.5   6.5 \n",
       "type b  6.5  -6.5 "
      ]
     },
     "metadata": {},
     "output_type": "display_data"
    }
   ],
   "source": [
    "two_way[1:2,1:2] - expected_counts"
   ]
  },
  {
   "cell_type": "markdown",
   "metadata": {},
   "source": [
    "We will construct the statistic as we see in the reference page."
   ]
  },
  {
   "cell_type": "code",
   "execution_count": 19,
   "metadata": {},
   "outputs": [
    {
     "data": {
      "text/html": [
       "9.82843849956383"
      ],
      "text/latex": [
       "9.82843849956383"
      ],
      "text/markdown": [
       "9.82843849956383"
      ],
      "text/plain": [
       "[1] 9.828438"
      ]
     },
     "metadata": {},
     "output_type": "display_data"
    }
   ],
   "source": [
    "# CHI-SQ TEST STATISTIC\n",
    "sum((two_way[1:2,1:2] - expected_counts)^2 / expected_counts)"
   ]
  },
  {
   "cell_type": "markdown",
   "metadata": {},
   "source": [
    "#### Using R\n",
    "We can use the R function now."
   ]
  },
  {
   "cell_type": "code",
   "execution_count": 20,
   "metadata": {
    "scrolled": true
   },
   "outputs": [
    {
     "data": {
      "text/plain": [
       "\n",
       "\tPearson's Chi-squared test\n",
       "\n",
       "data:  two_way\n",
       "X-squared = 9.8284, df = 4, p-value = 0.04342\n"
      ]
     },
     "metadata": {},
     "output_type": "display_data"
    }
   ],
   "source": [
    "chisq.test(two_way, correct=FALSE)"
   ]
  },
  {
   "cell_type": "markdown",
   "metadata": {},
   "source": [
    "# Relating the two distributions\n",
    "The relationship between the statistics:"
   ]
  },
  {
   "cell_type": "code",
   "execution_count": 21,
   "metadata": {},
   "outputs": [],
   "source": [
    "z_stat <- 3.13503437082875\n",
    "x_stat <- 9.8284"
   ]
  },
  {
   "cell_type": "code",
   "execution_count": 22,
   "metadata": {},
   "outputs": [
    {
     "data": {
      "text/html": [
       "9.82844050627762"
      ],
      "text/latex": [
       "9.82844050627762"
      ],
      "text/markdown": [
       "9.82844050627762"
      ],
      "text/plain": [
       "[1] 9.828441"
      ]
     },
     "metadata": {},
     "output_type": "display_data"
    }
   ],
   "source": [
    "z_stat^2"
   ]
  },
  {
   "cell_type": "markdown",
   "metadata": {},
   "source": [
    "All done!"
   ]
  }
 ],
 "metadata": {
  "kernelspec": {
   "display_name": "R",
   "language": "R",
   "name": "ir"
  },
  "language_info": {
   "codemirror_mode": "r",
   "file_extension": ".r",
   "mimetype": "text/x-r-source",
   "name": "R",
   "pygments_lexer": "r",
   "version": "3.5.1"
  }
 },
 "nbformat": 4,
 "nbformat_minor": 2
}
